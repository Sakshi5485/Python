{
 "cells": [
  {
   "cell_type": "markdown",
   "id": "f2b2d7da",
   "metadata": {},
   "source": [
    "# IT Company Employee Data"
   ]
  },
  {
   "cell_type": "markdown",
   "id": "2bb07041",
   "metadata": {},
   "source": [
    "#### TASK-1 : The company has hired 30 candidates recently assign to employee ids to these 30 candidates as per details below save the employee ids in separate 1D arrays, one for each department, and print them"
   ]
  },
  {
   "cell_type": "code",
   "execution_count": 1,
   "id": "24bdfedf",
   "metadata": {},
   "outputs": [
    {
     "data": {
      "text/plain": [
       "array([1, 2, 3])"
      ]
     },
     "execution_count": 1,
     "metadata": {},
     "output_type": "execute_result"
    }
   ],
   "source": [
    "import numpy as np\n",
    "HR = np.arange(1,4)\n",
    "HR"
   ]
  },
  {
   "cell_type": "code",
   "execution_count": 3,
   "id": "7b9b8ef5",
   "metadata": {},
   "outputs": [
    {
     "data": {
      "text/plain": [
       "array([ 4,  5,  6,  7,  8,  9, 10, 11, 12, 13, 14, 15, 16, 17, 18])"
      ]
     },
     "execution_count": 3,
     "metadata": {},
     "output_type": "execute_result"
    }
   ],
   "source": [
    "IT = np.arange(4,19)\n",
    "IT"
   ]
  },
  {
   "cell_type": "code",
   "execution_count": 5,
   "id": "378e5f5d",
   "metadata": {},
   "outputs": [
    {
     "data": {
      "text/plain": [
       "array([19, 20, 21, 22, 23])"
      ]
     },
     "execution_count": 5,
     "metadata": {},
     "output_type": "execute_result"
    }
   ],
   "source": [
    "Finance = np.arange(19,24)\n",
    "Finance"
   ]
  },
  {
   "cell_type": "code",
   "execution_count": 6,
   "id": "0624b78d",
   "metadata": {},
   "outputs": [
    {
     "data": {
      "text/plain": [
       "array([24, 25, 26, 27, 28, 29, 30])"
      ]
     },
     "execution_count": 6,
     "metadata": {},
     "output_type": "execute_result"
    }
   ],
   "source": [
    "Sales = np.arange(24,31)\n",
    "Sales"
   ]
  },
  {
   "cell_type": "markdown",
   "id": "e261914a",
   "metadata": {},
   "source": [
    "##### "
   ]
  },
  {
   "cell_type": "markdown",
   "id": "3a971a77",
   "metadata": {},
   "source": [
    "#### TASK-2 : Create four different 1D arrays to hold only the salaries of the employees as per the details below and print them."
   ]
  },
  {
   "cell_type": "code",
   "execution_count": 8,
   "id": "62fabc9e",
   "metadata": {},
   "outputs": [
    {
     "data": {
      "text/plain": [
       "array([[50, 60, 57]])"
      ]
     },
     "execution_count": 8,
     "metadata": {},
     "output_type": "execute_result"
    }
   ],
   "source": [
    "HR_SAL = [50,60,57]\n",
    "HR_sal = np.array([HR_SAL])\n",
    "HR_sal"
   ]
  },
  {
   "cell_type": "code",
   "execution_count": 24,
   "id": "0d0d97a4",
   "metadata": {},
   "outputs": [
    {
     "data": {
      "text/plain": [
       "array([67, 67, 67, 67, 67, 67, 67, 67, 67, 67, 67, 67, 67, 67, 67])"
      ]
     },
     "execution_count": 24,
     "metadata": {},
     "output_type": "execute_result"
    }
   ],
   "source": [
    "IT_sal = np.full(15,67)\n",
    "IT_sal"
   ]
  },
  {
   "cell_type": "code",
   "execution_count": 10,
   "id": "8329f3db",
   "metadata": {},
   "outputs": [
    {
     "data": {
      "text/plain": [
       "array([[60, 65, 50, 70, 87]])"
      ]
     },
     "execution_count": 10,
     "metadata": {},
     "output_type": "execute_result"
    }
   ],
   "source": [
    "Fin_sal = [60,65,50,70,87]\n",
    "Finance_sal = np.array([Fin_sal])\n",
    "Finance_sal"
   ]
  },
  {
   "cell_type": "code",
   "execution_count": 11,
   "id": "2a941382",
   "metadata": {},
   "outputs": [
    {
     "data": {
      "text/plain": [
       "array([[50, 60, 65, 90, 56, 65, 71]])"
      ]
     },
     "execution_count": 11,
     "metadata": {},
     "output_type": "execute_result"
    }
   ],
   "source": [
    "sales_sal = [50,60,65,90,56,65,71]\n",
    "Sales_sal = np.array([sales_sal])\n",
    "Sales_sal"
   ]
  },
  {
   "cell_type": "markdown",
   "id": "f18175e0",
   "metadata": {},
   "source": [
    "#### "
   ]
  },
  {
   "cell_type": "markdown",
   "id": "5e7beff9",
   "metadata": {},
   "source": [
    "#### TASK-3 : Calculate the department wise average salary expenses on the 30 employees. also determine the departments with the highest average salary expenses on the employees."
   ]
  },
  {
   "cell_type": "code",
   "execution_count": 12,
   "id": "14d7267c",
   "metadata": {},
   "outputs": [
    {
     "data": {
      "text/plain": [
       "55.666666666666664"
      ]
     },
     "execution_count": 12,
     "metadata": {},
     "output_type": "execute_result"
    }
   ],
   "source": [
    "AVG_HR = np.mean(HR_sal)\n",
    "AVG_HR"
   ]
  },
  {
   "cell_type": "code",
   "execution_count": 25,
   "id": "a0246ed8",
   "metadata": {},
   "outputs": [
    {
     "data": {
      "text/plain": [
       "67.0"
      ]
     },
     "execution_count": 25,
     "metadata": {},
     "output_type": "execute_result"
    }
   ],
   "source": [
    "AVG_IT = np.mean(IT_sal)\n",
    "AVG_IT"
   ]
  },
  {
   "cell_type": "code",
   "execution_count": 14,
   "id": "a6003e6a",
   "metadata": {},
   "outputs": [
    {
     "data": {
      "text/plain": [
       "66.4"
      ]
     },
     "execution_count": 14,
     "metadata": {},
     "output_type": "execute_result"
    }
   ],
   "source": [
    "AVG_FINANCE = np.mean(Finance_sal)\n",
    "AVG_FINANCE"
   ]
  },
  {
   "cell_type": "code",
   "execution_count": 15,
   "id": "633941d2",
   "metadata": {},
   "outputs": [
    {
     "data": {
      "text/plain": [
       "65.28571428571429"
      ]
     },
     "execution_count": 15,
     "metadata": {},
     "output_type": "execute_result"
    }
   ],
   "source": [
    "AVG_SALES = np.mean(Sales_sal)\n",
    "AVG_SALES"
   ]
  },
  {
   "cell_type": "markdown",
   "id": "473c2d2d",
   "metadata": {},
   "source": [
    "### Interpretation : The IT department have the highest average salary expenses on the employees i.e., 67.0 thousand dollars."
   ]
  },
  {
   "cell_type": "markdown",
   "id": "fd464c29",
   "metadata": {},
   "source": [
    "#### "
   ]
  },
  {
   "cell_type": "markdown",
   "id": "0fc04e05",
   "metadata": {},
   "source": [
    "#### TASK-4 : List the highest salaries in the HR and Finance departments."
   ]
  },
  {
   "cell_type": "code",
   "execution_count": 16,
   "id": "44dba81c",
   "metadata": {},
   "outputs": [
    {
     "data": {
      "text/plain": [
       "60"
      ]
     },
     "execution_count": 16,
     "metadata": {},
     "output_type": "execute_result"
    }
   ],
   "source": [
    "High_HR = np.max(HR_sal)\n",
    "High_HR"
   ]
  },
  {
   "cell_type": "markdown",
   "id": "e5f5e51e",
   "metadata": {},
   "source": [
    "### Highest salary in HR department is 60 thousand dollars."
   ]
  },
  {
   "cell_type": "code",
   "execution_count": 18,
   "id": "521f9ac9",
   "metadata": {},
   "outputs": [
    {
     "data": {
      "text/plain": [
       "87"
      ]
     },
     "execution_count": 18,
     "metadata": {},
     "output_type": "execute_result"
    }
   ],
   "source": [
    "High_Finance = np.max(Finance_sal)\n",
    "High_Finance"
   ]
  },
  {
   "cell_type": "markdown",
   "id": "2e4acf6e",
   "metadata": {},
   "source": [
    "### Highest salary in Finance department is 87 thousand dollars."
   ]
  },
  {
   "cell_type": "markdown",
   "id": "addb8c2a",
   "metadata": {},
   "source": [
    "### "
   ]
  },
  {
   "cell_type": "markdown",
   "id": "c4db1d3d",
   "metadata": {},
   "source": [
    "#### TASK-5 : The company has decided to give a joining/signing bonus worth 5% of the gross salary to those employees whose employees who belong to IT department. update the salary of such employees after adding the bonus. display the updated salary."
   ]
  },
  {
   "cell_type": "code",
   "execution_count": 26,
   "id": "2ccc1431",
   "metadata": {},
   "outputs": [
    {
     "data": {
      "text/plain": [
       "array([67, 67, 67, 67, 67, 67, 67, 67, 67, 67, 67, 67, 67, 67, 67])"
      ]
     },
     "execution_count": 26,
     "metadata": {},
     "output_type": "execute_result"
    }
   ],
   "source": [
    "IT_sal"
   ]
  },
  {
   "cell_type": "code",
   "execution_count": 41,
   "id": "32d1935e",
   "metadata": {},
   "outputs": [
    {
     "data": {
      "text/plain": [
       "array([70.35, 70.35, 70.35, 70.35, 70.35, 70.35, 70.35, 70.35, 70.35,\n",
       "       70.35, 70.35, 70.35, 70.35, 70.35, 70.35])"
      ]
     },
     "execution_count": 41,
     "metadata": {},
     "output_type": "execute_result"
    }
   ],
   "source": [
    "Updated_salary = IT_sal+(IT_sal*5/100)\n",
    "Updated_salary"
   ]
  },
  {
   "cell_type": "markdown",
   "id": "69855cd8",
   "metadata": {},
   "source": [
    "#### "
   ]
  }
 ],
 "metadata": {
  "kernelspec": {
   "display_name": "Python 3 (ipykernel)",
   "language": "python",
   "name": "python3"
  },
  "language_info": {
   "codemirror_mode": {
    "name": "ipython",
    "version": 3
   },
   "file_extension": ".py",
   "mimetype": "text/x-python",
   "name": "python",
   "nbconvert_exporter": "python",
   "pygments_lexer": "ipython3",
   "version": "3.11.5"
  }
 },
 "nbformat": 4,
 "nbformat_minor": 5
}
