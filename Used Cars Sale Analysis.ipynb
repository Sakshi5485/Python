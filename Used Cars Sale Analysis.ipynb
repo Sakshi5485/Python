{
 "cells": [
  {
   "cell_type": "markdown",
   "id": "25fa9d73",
   "metadata": {},
   "source": [
    "# Car Sale Analysis"
   ]
  },
  {
   "cell_type": "code",
   "execution_count": 85,
   "id": "a4150f7c",
   "metadata": {},
   "outputs": [],
   "source": [
    "import pandas as pd"
   ]
  },
  {
   "cell_type": "code",
   "execution_count": 86,
   "id": "4c89e176",
   "metadata": {},
   "outputs": [],
   "source": [
    "import numpy as np"
   ]
  },
  {
   "cell_type": "markdown",
   "id": "e91eaa44",
   "metadata": {},
   "source": [
    "## "
   ]
  },
  {
   "cell_type": "markdown",
   "id": "aeb25517",
   "metadata": {},
   "source": [
    "#### TASK - 1 : Create a pandas series object to store the prices of these cars and assign them the row indexes from 101 to 120."
   ]
  },
  {
   "cell_type": "code",
   "execution_count": 87,
   "id": "67bd67f5",
   "metadata": {},
   "outputs": [],
   "source": [
    "price = [80121, 48483, 37077, 30660, 68536, 52666, 78703, 51036, 55643, 56990, \n",
    "         39967, 93822, 51406, 93947, 78373, 62765, 47536, 40528, 58780, 83197]"
   ]
  },
  {
   "cell_type": "code",
   "execution_count": 88,
   "id": "74e7eea4",
   "metadata": {},
   "outputs": [
    {
     "data": {
      "text/plain": [
       "101    80121\n",
       "102    48483\n",
       "103    37077\n",
       "104    30660\n",
       "105    68536\n",
       "106    52666\n",
       "107    78703\n",
       "108    51036\n",
       "109    55643\n",
       "110    56990\n",
       "111    39967\n",
       "112    93822\n",
       "113    51406\n",
       "114    93947\n",
       "115    78373\n",
       "116    62765\n",
       "117    47536\n",
       "118    40528\n",
       "119    58780\n",
       "120    83197\n",
       "dtype: int64"
      ]
     },
     "execution_count": 88,
     "metadata": {},
     "output_type": "execute_result"
    }
   ],
   "source": [
    "car_prices = pd.Series(price,index=(np.arange(101,121)))\n",
    "car_prices"
   ]
  },
  {
   "cell_type": "markdown",
   "id": "6beac8c4",
   "metadata": {},
   "source": [
    "### "
   ]
  },
  {
   "cell_type": "markdown",
   "id": "778861f7",
   "metadata": {},
   "source": [
    "#### TASK - 2 : Identify the row indexes and prices of the cars with the highest price and the lowest price."
   ]
  },
  {
   "cell_type": "code",
   "execution_count": 89,
   "id": "53a49a4a",
   "metadata": {},
   "outputs": [
    {
     "name": "stdout",
     "output_type": "stream",
     "text": [
      "Index of car has lowest price :  104\n",
      "Index of car has lowest price :  114\n"
     ]
    }
   ],
   "source": [
    "lowest = car_prices.idxmin()\n",
    "print(\"Index of car has lowest price : \",lowest)\n",
    "highest = car_prices.idxmax()\n",
    "print(\"Index of car has lowest price : \",highest)"
   ]
  },
  {
   "cell_type": "markdown",
   "id": "385dcb6b",
   "metadata": {},
   "source": [
    "## "
   ]
  },
  {
   "cell_type": "markdown",
   "id": "604fd01b",
   "metadata": {},
   "source": [
    "#### TASK - 3 : Display the price of the top 5 cars with highest value, along with their row index."
   ]
  },
  {
   "cell_type": "code",
   "execution_count": 90,
   "id": "0e7987cd",
   "metadata": {},
   "outputs": [
    {
     "name": "stdout",
     "output_type": "stream",
     "text": [
      "Price of top 5 along with their index :\n"
     ]
    },
    {
     "data": {
      "text/plain": [
       "107    78703\n",
       "101    80121\n",
       "120    83197\n",
       "112    93822\n",
       "114    93947\n",
       "dtype: int64"
      ]
     },
     "execution_count": 90,
     "metadata": {},
     "output_type": "execute_result"
    }
   ],
   "source": [
    "top_5 = car_prices.sort_values()\n",
    "print(\"Price of top 5 along with their index :\")\n",
    "top_5[15:20,]"
   ]
  },
  {
   "cell_type": "markdown",
   "id": "1d957a9f",
   "metadata": {},
   "source": [
    "## "
   ]
  },
  {
   "cell_type": "markdown",
   "id": "4eec23c2",
   "metadata": {},
   "source": [
    "#### TASK - 4 : Display the prices of all cars priced between 30-40k along with the row indexes. Calculate and display the count of these cars."
   ]
  },
  {
   "cell_type": "code",
   "execution_count": 91,
   "id": "9dde7abc",
   "metadata": {},
   "outputs": [
    {
     "name": "stdout",
     "output_type": "stream",
     "text": [
      "Car prices between 30 and 40K :\n",
      "103    37077\n",
      "104    30660\n",
      "111    39967\n",
      "dtype: int64 \n",
      "\n",
      "Count of these cars :  3\n"
     ]
    }
   ],
   "source": [
    "count = car_prices[(car_prices >=30000) & (car_prices <40000)]\n",
    "print(\"Car prices between 30 and 40K :\")\n",
    "print(count,\"\\n\")\n",
    "print(\"Count of these cars : \",count.size)"
   ]
  },
  {
   "cell_type": "markdown",
   "id": "02e479b7",
   "metadata": {},
   "source": [
    "## "
   ]
  },
  {
   "cell_type": "markdown",
   "id": "05b59159",
   "metadata": {},
   "source": [
    "#### TASK - 5 : Display the price and row indexes of those cars that are priced above the average price of all cars. Display the count of such cars."
   ]
  },
  {
   "cell_type": "code",
   "execution_count": 92,
   "id": "1e8ea37d",
   "metadata": {},
   "outputs": [
    {
     "name": "stdout",
     "output_type": "stream",
     "text": [
      "Cars that have price above average of all cars :\n",
      "\n",
      "101    80121\n",
      "105    68536\n",
      "107    78703\n",
      "112    93822\n",
      "114    93947\n",
      "115    78373\n",
      "116    62765\n",
      "120    83197\n",
      "dtype: int64 \n",
      "\n",
      "Count of above average price cars: 8\n"
     ]
    }
   ],
   "source": [
    "above_avg = car_prices[car_prices >car_prices.mean()]\n",
    "print(\"Cars that have price above average of all cars :\\n\")\n",
    "print(above_avg,\"\\n\")\n",
    "print(\"Count of above average price cars:\",above_avg.size)"
   ]
  },
  {
   "cell_type": "markdown",
   "id": "6a58e8bb",
   "metadata": {},
   "source": [
    "##### There are total 8 cars which have price above the average price of all cars."
   ]
  },
  {
   "cell_type": "markdown",
   "id": "2e533713",
   "metadata": {},
   "source": [
    "### "
   ]
  },
  {
   "cell_type": "markdown",
   "id": "1548e9de",
   "metadata": {},
   "source": [
    "####  TASK - 6 : The car dealer needs to new car with the row indexs 201, 202 and 203 priced at 34000, 45000 and 54000 respectively. update the existing data and display the prices along with the row indexes."
   ]
  },
  {
   "cell_type": "code",
   "execution_count": 93,
   "id": "4b3923cb",
   "metadata": {},
   "outputs": [
    {
     "data": {
      "text/plain": [
       "201    34000\n",
       "202    45000\n",
       "203    54000\n",
       "dtype: int64"
      ]
     },
     "execution_count": 93,
     "metadata": {},
     "output_type": "execute_result"
    }
   ],
   "source": [
    "new_indexes = [201,202,203]\n",
    "new_prices = [34000,45000,54000]\n",
    "new_car_prices = pd.Series(new_prices ,index=new_indexes)\n",
    "new_car_prices"
   ]
  },
  {
   "cell_type": "code",
   "execution_count": 94,
   "id": "accc081a",
   "metadata": {},
   "outputs": [
    {
     "name": "stdout",
     "output_type": "stream",
     "text": [
      "Updated Data : \n",
      "\n",
      "101    80121\n",
      "102    48483\n",
      "103    37077\n",
      "104    30660\n",
      "105    68536\n",
      "106    52666\n",
      "107    78703\n",
      "108    51036\n",
      "109    55643\n",
      "110    56990\n",
      "111    39967\n",
      "112    93822\n",
      "113    51406\n",
      "114    93947\n",
      "115    78373\n",
      "116    62765\n",
      "117    47536\n",
      "118    40528\n",
      "119    58780\n",
      "120    83197\n",
      "201    34000\n",
      "202    45000\n",
      "203    54000\n",
      "dtype: int64\n"
     ]
    }
   ],
   "source": [
    "new_car_prices = pd.concat([car_prices, new_car_prices])\n",
    "print(\"Updated Data : \\n\")\n",
    "print(new_car_prices)"
   ]
  },
  {
   "cell_type": "markdown",
   "id": "296d422b",
   "metadata": {},
   "source": [
    "### "
   ]
  },
  {
   "cell_type": "markdown",
   "id": "a789f14b",
   "metadata": {},
   "source": [
    "#### TASK - 7 : The car dealer is offering a discount of  20% on the car price above 60000, Display the row indexes along with the original and discounted prices of such all cars."
   ]
  },
  {
   "cell_type": "code",
   "execution_count": 95,
   "id": "41a2c585",
   "metadata": {},
   "outputs": [
    {
     "data": {
      "text/html": [
       "<div>\n",
       "<style scoped>\n",
       "    .dataframe tbody tr th:only-of-type {\n",
       "        vertical-align: middle;\n",
       "    }\n",
       "\n",
       "    .dataframe tbody tr th {\n",
       "        vertical-align: top;\n",
       "    }\n",
       "\n",
       "    .dataframe thead th {\n",
       "        text-align: right;\n",
       "    }\n",
       "</style>\n",
       "<table border=\"1\" class=\"dataframe\">\n",
       "  <thead>\n",
       "    <tr style=\"text-align: right;\">\n",
       "      <th></th>\n",
       "      <th>Original Price</th>\n",
       "      <th>Discounted Price</th>\n",
       "    </tr>\n",
       "  </thead>\n",
       "  <tbody>\n",
       "    <tr>\n",
       "      <th>101</th>\n",
       "      <td>80121</td>\n",
       "      <td>64096.8</td>\n",
       "    </tr>\n",
       "    <tr>\n",
       "      <th>105</th>\n",
       "      <td>68536</td>\n",
       "      <td>54828.8</td>\n",
       "    </tr>\n",
       "    <tr>\n",
       "      <th>107</th>\n",
       "      <td>78703</td>\n",
       "      <td>62962.4</td>\n",
       "    </tr>\n",
       "    <tr>\n",
       "      <th>112</th>\n",
       "      <td>93822</td>\n",
       "      <td>75057.6</td>\n",
       "    </tr>\n",
       "    <tr>\n",
       "      <th>114</th>\n",
       "      <td>93947</td>\n",
       "      <td>75157.6</td>\n",
       "    </tr>\n",
       "    <tr>\n",
       "      <th>115</th>\n",
       "      <td>78373</td>\n",
       "      <td>62698.4</td>\n",
       "    </tr>\n",
       "    <tr>\n",
       "      <th>116</th>\n",
       "      <td>62765</td>\n",
       "      <td>50212.0</td>\n",
       "    </tr>\n",
       "    <tr>\n",
       "      <th>120</th>\n",
       "      <td>83197</td>\n",
       "      <td>66557.6</td>\n",
       "    </tr>\n",
       "  </tbody>\n",
       "</table>\n",
       "</div>"
      ],
      "text/plain": [
       "     Original Price  Discounted Price\n",
       "101           80121           64096.8\n",
       "105           68536           54828.8\n",
       "107           78703           62962.4\n",
       "112           93822           75057.6\n",
       "114           93947           75157.6\n",
       "115           78373           62698.4\n",
       "116           62765           50212.0\n",
       "120           83197           66557.6"
      ]
     },
     "execution_count": 95,
     "metadata": {},
     "output_type": "execute_result"
    }
   ],
   "source": [
    "discount = discount[new_car_prices >60000]\n",
    "discount_prices = discount-(discount*20/100)\n",
    "a = pd.concat([discount,discount_prices],axis=1)\n",
    "a.columns=[\"Original Price\",\"Discounted Price\"]\n",
    "a"
   ]
  },
  {
   "cell_type": "markdown",
   "id": "3deee046",
   "metadata": {},
   "source": [
    "#### "
   ]
  },
  {
   "cell_type": "markdown",
   "id": "5c84a441",
   "metadata": {},
   "source": [
    "#### Task - 8 : The cars priced above 60000 are sold now due to the 20% discount by the dealer. update the data by deleting the details of car sold and and print the updated data display the count of car before and after the updating the data."
   ]
  },
  {
   "cell_type": "code",
   "execution_count": 84,
   "id": "d611c1cf",
   "metadata": {},
   "outputs": [
    {
     "name": "stdout",
     "output_type": "stream",
     "text": [
      "Updated data after deleting the details of car sold :\n",
      "\n",
      "102    48483\n",
      "103    37077\n",
      "104    30660\n",
      "106    52666\n",
      "108    51036\n",
      "109    55643\n",
      "110    56990\n",
      "111    39967\n",
      "113    51406\n",
      "117    47536\n",
      "118    40528\n",
      "119    58780\n",
      "201    34000\n",
      "202    45000\n",
      "203    54000\n",
      "dtype: int64 \n",
      "\n",
      "Count before updating the data details:  23 \n",
      "\n",
      "Count after updating  the data details:  15 \n",
      "\n"
     ]
    }
   ],
   "source": [
    "copy = new_car_prices.copy()\n",
    "b = a.index\n",
    "copy = copy.drop(index=b)\n",
    "print(\"Updated data after deleting the details of car sold :\\n\")\n",
    "print(copy,\"\\n\")\n",
    "print(\"Count before updating the data details: \",new_car_prices.size,\"\\n\")\n",
    "print(\"Count after updating  the data details: \",copy.size,\"\\n\")"
   ]
  },
  {
   "cell_type": "code",
   "execution_count": null,
   "id": "16f9e17d",
   "metadata": {},
   "outputs": [],
   "source": []
  }
 ],
 "metadata": {
  "kernelspec": {
   "display_name": "Python 3 (ipykernel)",
   "language": "python",
   "name": "python3"
  },
  "language_info": {
   "codemirror_mode": {
    "name": "ipython",
    "version": 3
   },
   "file_extension": ".py",
   "mimetype": "text/x-python",
   "name": "python",
   "nbconvert_exporter": "python",
   "pygments_lexer": "ipython3",
   "version": "3.11.5"
  }
 },
 "nbformat": 4,
 "nbformat_minor": 5
}
