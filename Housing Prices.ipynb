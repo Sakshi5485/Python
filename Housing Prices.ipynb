{
 "cells": [
  {
   "cell_type": "markdown",
   "id": "8920da1e",
   "metadata": {},
   "source": [
    "# Housing Price"
   ]
  },
  {
   "cell_type": "code",
   "execution_count": 1,
   "id": "7d4a64cc",
   "metadata": {},
   "outputs": [],
   "source": [
    "import pandas as pd\n",
    "import mysql.connector as sql\n",
    "from sqlalchemy import create_engine"
   ]
  },
  {
   "cell_type": "code",
   "execution_count": 5,
   "id": "be6fea88",
   "metadata": {},
   "outputs": [],
   "source": [
    "data = pd.read_csv(\"DS1_C4_S6_House_Prices_Data_Challenge.csv\")"
   ]
  },
  {
   "cell_type": "code",
   "execution_count": 2,
   "id": "fe525194",
   "metadata": {},
   "outputs": [],
   "source": [
    "db = sql.connect(host='localhost', user='root',password='SAK@2002')\n",
    "mycursor = db.cursor()"
   ]
  },
  {
   "cell_type": "code",
   "execution_count": 4,
   "id": "43711c97",
   "metadata": {},
   "outputs": [],
   "source": [
    "mycursor.execute(\"create database housing_price\")"
   ]
  },
  {
   "cell_type": "code",
   "execution_count": 3,
   "id": "7c4a1f62",
   "metadata": {},
   "outputs": [],
   "source": [
    "mycursor.execute(\"drop database housing_price\")"
   ]
  },
  {
   "cell_type": "markdown",
   "id": "2cfb5369",
   "metadata": {},
   "source": [
    "## "
   ]
  },
  {
   "cell_type": "markdown",
   "id": "d88da2c6",
   "metadata": {},
   "source": [
    "## TASK - 1 :"
   ]
  },
  {
   "cell_type": "markdown",
   "id": "7538f999",
   "metadata": {},
   "source": [
    "### Most people prefer houses that are at least 6000 square feet and are corner-plot houses. write a query to fetch these rows and push them into a new table in MySQL."
   ]
  },
  {
   "cell_type": "code",
   "execution_count": 6,
   "id": "88b2ea3c",
   "metadata": {},
   "outputs": [],
   "source": [
    "houses = data[(data[\"LotArea\"]>=6000) & (data[\"LotConfig\"]==\"Corner\")]"
   ]
  },
  {
   "cell_type": "code",
   "execution_count": 7,
   "id": "02fe4057",
   "metadata": {},
   "outputs": [],
   "source": [
    "task_1 = pd.concat([houses[\"Id\"],houses[\"LotArea\"],houses[\"LotConfig\"]],axis=1)"
   ]
  },
  {
   "cell_type": "code",
   "execution_count": 8,
   "id": "1600c446",
   "metadata": {},
   "outputs": [
    {
     "data": {
      "text/plain": [
       "241"
      ]
     },
     "execution_count": 8,
     "metadata": {},
     "output_type": "execute_result"
    }
   ],
   "source": [
    "engine = create_engine(\"mysql+pymysql://{user}:{pw}@{host}/{db}\"\n",
    ".format(host=\"localhost\", db=\"housing_price\", user=\"root\", pw=\"SAK%402002\"))\n",
    "\n",
    "task_1.to_sql('preferred_houses', engine, index=False)"
   ]
  },
  {
   "cell_type": "code",
   "execution_count": null,
   "id": "2102f97e",
   "metadata": {},
   "outputs": [],
   "source": [
    "query = \"select * from preferred_houses\"\n",
    "A = sql.connect(host='localhost', user='root',password='SAK@2002',database='housing_price')\n",
    "pd.read_sql(query,A)"
   ]
  },
  {
   "cell_type": "markdown",
   "id": "83699e12",
   "metadata": {},
   "source": [
    "## "
   ]
  },
  {
   "cell_type": "markdown",
   "id": "71a0c437",
   "metadata": {},
   "source": [
    "## TASK - 2 :"
   ]
  },
  {
   "cell_type": "markdown",
   "id": "026ef1f0",
   "metadata": {},
   "source": [
    "### Most people seem to prefer houses that are one family and one story, preferably on flat land avoiding mountains or valleys/banks. write a query to fetch these rows and push them into a new table in MySQL."
   ]
  },
  {
   "cell_type": "code",
   "execution_count": 9,
   "id": "b685199a",
   "metadata": {},
   "outputs": [],
   "source": [
    "pref_house = data[(data[\"BldgType\"]==\"1Fam\") & (data[\"HouseStyle\"]==\"1Story\") & (data[\"LandContour\"]==\"Lvl\")]"
   ]
  },
  {
   "cell_type": "code",
   "execution_count": 10,
   "id": "c7b24e18",
   "metadata": {},
   "outputs": [],
   "source": [
    "task_2 = pd.concat([pref_house[\"Id\"],pref_house[\"BldgType\"],pref_house[\"HouseStyle\"],pref_house[\"LandContour\"]],axis=1)"
   ]
  },
  {
   "cell_type": "code",
   "execution_count": 11,
   "id": "67a7250e",
   "metadata": {},
   "outputs": [
    {
     "data": {
      "text/plain": [
       "545"
      ]
     },
     "execution_count": 11,
     "metadata": {},
     "output_type": "execute_result"
    }
   ],
   "source": [
    "task_2.to_sql('one_fam_story', engine, index=False)"
   ]
  },
  {
   "cell_type": "code",
   "execution_count": null,
   "id": "6466b41b",
   "metadata": {},
   "outputs": [],
   "source": [
    "query = \"select * from one_fam_story\"\n",
    "pd.read_sql(query,A)"
   ]
  },
  {
   "cell_type": "markdown",
   "id": "80be9124",
   "metadata": {},
   "source": [
    "## "
   ]
  },
  {
   "cell_type": "markdown",
   "id": "51d07a68",
   "metadata": {},
   "source": [
    "## TASK - 3 :"
   ]
  },
  {
   "cell_type": "markdown",
   "id": "4630085f",
   "metadata": {},
   "source": [
    "### Compact townhouses are hot-selling properties in california. Write a query to fetch these rows and push them into a new table in MySQL."
   ]
  },
  {
   "cell_type": "code",
   "execution_count": 12,
   "id": "bc2d6a7b",
   "metadata": {},
   "outputs": [],
   "source": [
    "com_town = data[(data[\"BldgType\"]==\"1Fam\") & (data[\"HouseStyle\"]==\"2Story\") & (data[\"Neighborhood\"]==\"OldTown\")]"
   ]
  },
  {
   "cell_type": "code",
   "execution_count": 13,
   "id": "bab142f5",
   "metadata": {},
   "outputs": [],
   "source": [
    "task_3 = pd.concat([com_town[\"Id\"],com_town[\"BldgType\"],com_town[\"HouseStyle\"]],axis=1)"
   ]
  },
  {
   "cell_type": "code",
   "execution_count": 14,
   "id": "df0b845e",
   "metadata": {},
   "outputs": [
    {
     "data": {
      "text/plain": [
       "24"
      ]
     },
     "execution_count": 14,
     "metadata": {},
     "output_type": "execute_result"
    }
   ],
   "source": [
    "task_3.to_sql('compact_townhouses', engine, index=False)"
   ]
  },
  {
   "cell_type": "code",
   "execution_count": null,
   "id": "a79d1a7a",
   "metadata": {},
   "outputs": [],
   "source": [
    "query = \"select * from compact_townhouses\"\n",
    "pd.read_sql(query,A)"
   ]
  },
  {
   "cell_type": "markdown",
   "id": "63b434c8",
   "metadata": {},
   "source": [
    "## "
   ]
  },
  {
   "cell_type": "markdown",
   "id": "6e458d5e",
   "metadata": {},
   "source": [
    "## TASK - 4 :"
   ]
  },
  {
   "cell_type": "markdown",
   "id": "f1cda4bb",
   "metadata": {},
   "source": [
    "### Houses with 3+ bedrooms, a basement and a cement exterior are popular among most customers. write a query to fetch these rows and push them into a new table in MySQL."
   ]
  },
  {
   "cell_type": "code",
   "execution_count": 15,
   "id": "7bc977be",
   "metadata": {},
   "outputs": [],
   "source": [
    "pop_house = data[(data[\"BedroomAbvGr\"]>3) & (data[\"ExterQual\"]==\"Gd\") & (data[\"Exterior1st\"]==\"CemntBd\")]"
   ]
  },
  {
   "cell_type": "code",
   "execution_count": 17,
   "id": "533d0daa",
   "metadata": {},
   "outputs": [],
   "source": [
    "task_4 = pd.concat([pop_house[\"Id\"],pop_house[\"BedroomAbvGr\"],pop_house[\"ExterQual\"],pop_house[\"Exterior1st\"]],axis=1)"
   ]
  },
  {
   "cell_type": "code",
   "execution_count": 18,
   "id": "3e4260d4",
   "metadata": {},
   "outputs": [
    {
     "data": {
      "text/plain": [
       "5"
      ]
     },
     "execution_count": 18,
     "metadata": {},
     "output_type": "execute_result"
    }
   ],
   "source": [
    "task_4.to_sql('popular_houses', engine, index=False)"
   ]
  },
  {
   "cell_type": "code",
   "execution_count": null,
   "id": "eaad8279",
   "metadata": {},
   "outputs": [],
   "source": [
    "query = \"select * from popular_houses\"\n",
    "pd.read_sql(query,A)"
   ]
  },
  {
   "cell_type": "markdown",
   "id": "e6fd1622",
   "metadata": {},
   "source": [
    "## "
   ]
  },
  {
   "cell_type": "markdown",
   "id": "aa598062",
   "metadata": {},
   "source": [
    "## TASK - 5 :"
   ]
  },
  {
   "cell_type": "markdown",
   "id": "b204da19",
   "metadata": {},
   "source": [
    "### Most families own two cars prefer a garage with at least 500 square feet. write a query to fetch these rows and push them into a new table in MySQL."
   ]
  },
  {
   "cell_type": "code",
   "execution_count": 19,
   "id": "d33e6f6a",
   "metadata": {},
   "outputs": [],
   "source": [
    "cars = data[(data[\"GarageCars\"]==2) & (data[\"GarageArea\"]>=500)]"
   ]
  },
  {
   "cell_type": "code",
   "execution_count": 20,
   "id": "4e4911e4",
   "metadata": {},
   "outputs": [],
   "source": [
    "task_5 = pd.concat([cars[\"Id\"],cars[\"GarageCars\"],cars[\"GarageArea\"]],axis=1)\n",
    "task_5 = task_5.set_index(\"Id\")"
   ]
  },
  {
   "cell_type": "code",
   "execution_count": 21,
   "id": "9022fb36",
   "metadata": {},
   "outputs": [
    {
     "data": {
      "text/plain": [
       "439"
      ]
     },
     "execution_count": 21,
     "metadata": {},
     "output_type": "execute_result"
    }
   ],
   "source": [
    "task_5.to_sql('car_garage', engine, index=False)"
   ]
  },
  {
   "cell_type": "code",
   "execution_count": null,
   "id": "5f236d4e",
   "metadata": {},
   "outputs": [],
   "source": [
    "query = \"select * from car_garage\"\n",
    "pd.read_sql(query,A)"
   ]
  },
  {
   "cell_type": "markdown",
   "id": "0a9c6fbe",
   "metadata": {},
   "source": [
    "### "
   ]
  },
  {
   "cell_type": "markdown",
   "id": "498f2da4",
   "metadata": {},
   "source": [
    "## TASK - 6 :"
   ]
  },
  {
   "cell_type": "markdown",
   "id": "2072a978",
   "metadata": {},
   "source": [
    "### Identify any three tables that have logical connection and figure out how would you connect them using primary key and foreign key relationship. You would be required to add additional columns (primary keys) in the tables that are related. these primary key need to have unique values, which will need to be generated using python programming."
   ]
  },
  {
   "cell_type": "code",
   "execution_count": null,
   "id": "0fff7e83",
   "metadata": {},
   "outputs": [],
   "source": []
  }
 ],
 "metadata": {
  "kernelspec": {
   "display_name": "Python 3 (ipykernel)",
   "language": "python",
   "name": "python3"
  },
  "language_info": {
   "codemirror_mode": {
    "name": "ipython",
    "version": 3
   },
   "file_extension": ".py",
   "mimetype": "text/x-python",
   "name": "python",
   "nbconvert_exporter": "python",
   "pygments_lexer": "ipython3",
   "version": "3.11.5"
  }
 },
 "nbformat": 4,
 "nbformat_minor": 5
}
