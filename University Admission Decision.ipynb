{
 "cells": [
  {
   "cell_type": "markdown",
   "id": "6b092617",
   "metadata": {},
   "source": [
    "# University Admmission Decision"
   ]
  },
  {
   "cell_type": "markdown",
   "id": "f2cfaccc",
   "metadata": {},
   "source": [
    "#### TASK-1 : Import the data file into 2D array. Display the total numbers of rows and columns in the array."
   ]
  },
  {
   "cell_type": "code",
   "execution_count": 1,
   "id": "3f140f9b",
   "metadata": {},
   "outputs": [
    {
     "data": {
      "text/plain": [
       "'C:\\\\Users\\\\SHUBH\\\\Downloads'"
      ]
     },
     "execution_count": 1,
     "metadata": {},
     "output_type": "execute_result"
    }
   ],
   "source": [
    "import numpy as np\n",
    "import os\n",
    "os.getcwd()"
   ]
  },
  {
   "cell_type": "code",
   "execution_count": 10,
   "id": "6117c0dc",
   "metadata": {},
   "outputs": [
    {
     "data": {
      "text/plain": [
       "array([[  1.  , 337.  , 118.  , ...,   9.65,   1.  ,   0.92],\n",
       "       [  2.  , 324.  , 107.  , ...,   8.87,   1.  ,   0.76],\n",
       "       [  3.  , 316.  , 104.  , ...,   8.  ,   1.  ,   0.72],\n",
       "       ...,\n",
       "       [398.  , 330.  , 116.  , ...,   9.45,   1.  ,   0.91],\n",
       "       [399.  , 312.  , 103.  , ...,   8.78,   0.  ,   0.67],\n",
       "       [400.  , 333.  , 117.  , ...,   9.66,   1.  ,   0.95]])"
      ]
     },
     "execution_count": 10,
     "metadata": {},
     "output_type": "execute_result"
    }
   ],
   "source": [
    "adm_data = np.genfromtxt('DS1_C4_S1_AdmissionPredict_Data_Practice.csv',delimiter=\",\",skip_header=1)\n",
    "adm_data"
   ]
  },
  {
   "cell_type": "markdown",
   "id": "1dcc3409",
   "metadata": {},
   "source": [
    "## "
   ]
  },
  {
   "cell_type": "markdown",
   "id": "31b3bfb3",
   "metadata": {},
   "source": [
    "#### TASK-2 : Display the GRE score of all the students."
   ]
  },
  {
   "cell_type": "code",
   "execution_count": 16,
   "id": "a57a98d4",
   "metadata": {},
   "outputs": [
    {
     "data": {
      "text/plain": [
       "3600"
      ]
     },
     "execution_count": 16,
     "metadata": {},
     "output_type": "execute_result"
    }
   ],
   "source": [
    "adm_data.size"
   ]
  },
  {
   "cell_type": "code",
   "execution_count": 26,
   "id": "b8661121",
   "metadata": {},
   "outputs": [
    {
     "data": {
      "text/plain": [
       "array([337., 324., 316., 322., 314., 330., 321., 308., 302., 323., 325.,\n",
       "       327., 328., 307., 311., 314., 317., 319., 318., 303., 312., 325.,\n",
       "       328., 334., 336., 340., 322., 298., 295., 310., 300., 327., 338.,\n",
       "       340., 331., 320., 299., 300., 304., 307., 308., 316., 313., 332.,\n",
       "       326., 322., 329., 339., 321., 327., 313., 312., 334., 324., 322.,\n",
       "       320., 316., 298., 300., 311., 309., 307., 304., 315., 325., 325.,\n",
       "       327., 316., 318., 328., 332., 336., 321., 314., 314., 329., 327.,\n",
       "       301., 296., 294., 312., 340., 320., 322., 340., 319., 315., 317.,\n",
       "       314., 316., 318., 299., 298., 301., 303., 304., 306., 331., 332.,\n",
       "       323., 322., 312., 314., 317., 326., 316., 329., 338., 331., 304.,\n",
       "       305., 321., 301., 320., 311., 310., 299., 290., 296., 327., 335.,\n",
       "       334., 310., 308., 301., 300., 323., 319., 326., 333., 339., 303.,\n",
       "       309., 323., 333., 314., 312., 316., 326., 318., 329., 332., 331.,\n",
       "       340., 325., 320., 315., 326., 339., 311., 334., 332., 321., 324.,\n",
       "       326., 312., 315., 309., 306., 297., 315., 298., 318., 317., 329.,\n",
       "       322., 302., 313., 293., 311., 312., 334., 322., 323., 321., 320.,\n",
       "       329., 319., 309., 307., 300., 305., 299., 314., 316., 327., 317.,\n",
       "       335., 331., 324., 324., 323., 322., 336., 316., 307., 306., 310.,\n",
       "       311., 313., 317., 315., 340., 334., 298., 295., 315., 310., 305.,\n",
       "       301., 325., 328., 338., 333., 331., 330., 322., 321., 324., 312.,\n",
       "       313., 316., 324., 308., 305., 296., 306., 312., 318., 324., 313.,\n",
       "       319., 312., 304., 330., 326., 325., 329., 310., 299., 296., 317.,\n",
       "       324., 325., 314., 328., 316., 311., 324., 321., 320., 316., 318.,\n",
       "       335., 321., 307., 309., 324., 326., 331., 327., 312., 308., 324.,\n",
       "       325., 313., 312., 314., 327., 308., 306., 299., 294., 312., 315.,\n",
       "       322., 329., 320., 308., 304., 311., 317., 312., 321., 340., 331.,\n",
       "       336., 324., 314., 313., 307., 300., 302., 312., 316., 317., 310.,\n",
       "       320., 330., 305., 309., 319., 322., 323., 313., 321., 323., 325.,\n",
       "       312., 308., 320., 328., 311., 301., 305., 308., 298., 300., 324.,\n",
       "       327., 317., 323., 314., 305., 315., 326., 299., 295., 324., 297.,\n",
       "       327., 311., 308., 319., 312., 325., 319., 332., 323., 324., 312.,\n",
       "       326., 308., 305., 295., 316., 304., 299., 302., 313., 318., 325.,\n",
       "       303., 300., 297., 317., 327., 301., 314., 321., 322., 334., 338.,\n",
       "       306., 313., 330., 320., 311., 298., 301., 310., 324., 336., 321.,\n",
       "       315., 304., 297., 290., 303., 311., 322., 319., 324., 300., 340.,\n",
       "       335., 302., 307., 296., 320., 314., 318., 326., 317., 329., 324.,\n",
       "       325., 330., 312., 333.])"
      ]
     },
     "execution_count": 26,
     "metadata": {},
     "output_type": "execute_result"
    }
   ],
   "source": [
    "GRE_score = adm_data[:,1]\n",
    "GRE_score"
   ]
  },
  {
   "cell_type": "code",
   "execution_count": 28,
   "id": "c47d285a",
   "metadata": {},
   "outputs": [
    {
     "data": {
      "text/plain": [
       "400"
      ]
     },
     "execution_count": 28,
     "metadata": {},
     "output_type": "execute_result"
    }
   ],
   "source": [
    "GRE_score.size"
   ]
  },
  {
   "cell_type": "markdown",
   "id": "9c7f8b94",
   "metadata": {},
   "source": [
    "## "
   ]
  },
  {
   "cell_type": "markdown",
   "id": "5549c455",
   "metadata": {},
   "source": [
    "#### TASK-3 : Find the total numbers of students who have a GRE score greater than 320."
   ]
  },
  {
   "cell_type": "code",
   "execution_count": 32,
   "id": "d31ea041",
   "metadata": {},
   "outputs": [
    {
     "data": {
      "text/plain": [
       "array([337., 324., 322., 330., 321., 323., 325., 327., 328., 325., 328.,\n",
       "       334., 336., 340., 322., 327., 338., 340., 331., 332., 326., 322.,\n",
       "       329., 339., 321., 327., 334., 324., 322., 325., 325., 327., 328.,\n",
       "       332., 336., 321., 329., 327., 340., 322., 340., 331., 332., 323.,\n",
       "       322., 326., 329., 338., 331., 321., 327., 335., 334., 323., 326.,\n",
       "       333., 339., 323., 333., 326., 329., 332., 331., 340., 325., 326.,\n",
       "       339., 334., 332., 321., 324., 326., 329., 322., 334., 322., 323.,\n",
       "       321., 329., 327., 335., 331., 324., 324., 323., 322., 336., 340.,\n",
       "       334., 325., 328., 338., 333., 331., 330., 322., 321., 324., 324.,\n",
       "       324., 330., 326., 325., 329., 324., 325., 328., 324., 321., 335.,\n",
       "       321., 324., 326., 331., 327., 324., 325., 327., 322., 329., 321.,\n",
       "       340., 331., 336., 324., 330., 322., 323., 321., 323., 325., 328.,\n",
       "       324., 327., 323., 326., 324., 327., 325., 332., 323., 324., 326.,\n",
       "       325., 327., 321., 322., 334., 338., 330., 324., 336., 321., 322.,\n",
       "       324., 340., 335., 326., 329., 324., 325., 330., 333.])"
      ]
     },
     "execution_count": 32,
     "metadata": {},
     "output_type": "execute_result"
    }
   ],
   "source": [
    "index = np.where(adm_data[:,1] > 320)\n",
    "Max_GRE = adm_data[:,1][index]\n",
    "Max_GRE"
   ]
  },
  {
   "cell_type": "code",
   "execution_count": 49,
   "id": "ddf51ec3",
   "metadata": {},
   "outputs": [
    {
     "data": {
      "text/plain": [
       "163"
      ]
     },
     "execution_count": 49,
     "metadata": {},
     "output_type": "execute_result"
    }
   ],
   "source": [
    "Max_GRE.size"
   ]
  },
  {
   "cell_type": "markdown",
   "id": "524f0c6e",
   "metadata": {},
   "source": [
    "## "
   ]
  },
  {
   "cell_type": "markdown",
   "id": "79885fb2",
   "metadata": {},
   "source": [
    "#### TASK-4 : What is the chance of admission of the students who have a TOEFL score greater than 110? Display the admission chance as a percentage number by multiplying each value in the output by hundred."
   ]
  },
  {
   "cell_type": "code",
   "execution_count": 36,
   "id": "6e6638d0",
   "metadata": {},
   "outputs": [
    {
     "data": {
      "text/plain": [
       "array([92., 90., 84., 78., 70., 94., 95., 97., 94., 91., 90., 94., 87.,\n",
       "       91., 86., 89., 78., 78., 72., 52., 55., 61., 78., 94., 96., 93.,\n",
       "       72., 74., 96., 92., 94., 86., 90., 79., 74., 87., 91., 93., 94.,\n",
       "       94., 85., 78., 84., 92., 96., 79., 89., 80., 90., 92., 97., 80.,\n",
       "       81., 83., 96., 93., 94., 86., 81., 89., 89., 87., 85., 90., 89.,\n",
       "       93., 93., 88., 90., 86., 94., 97., 97., 95., 96., 94., 93., 91.,\n",
       "       76., 71., 82., 91., 88., 85., 86., 70., 76., 77., 93., 85., 90.,\n",
       "       70., 83., 89., 80., 94., 93., 92., 89., 86., 90., 71., 80., 79.,\n",
       "       80., 81., 80., 80., 83., 94., 93., 91., 86., 95., 96., 96., 84.,\n",
       "       89., 91., 95.])"
      ]
     },
     "execution_count": 36,
     "metadata": {},
     "output_type": "execute_result"
    }
   ],
   "source": [
    "index1 = np.where(adm_data[:,2] > 110)\n",
    "adm_chance = adm_data[:,8][index1]\n",
    "adm_chance = adm_chance*100\n",
    "adm_chance"
   ]
  },
  {
   "cell_type": "code",
   "execution_count": 50,
   "id": "d1d99148",
   "metadata": {},
   "outputs": [
    {
     "data": {
      "text/plain": [
       "120"
      ]
     },
     "execution_count": 50,
     "metadata": {},
     "output_type": "execute_result"
    }
   ],
   "source": [
    "adm_chance.size"
   ]
  },
  {
   "cell_type": "markdown",
   "id": "892189b7",
   "metadata": {},
   "source": [
    "### "
   ]
  },
  {
   "cell_type": "markdown",
   "id": "b0fa1ce7",
   "metadata": {},
   "source": [
    "#### TASK-5 : The university decides to offer a scholarship worth 1000 to all those students who have a GRE score greater than 315, a TOEFL score greater than 115, and have some research experience.  Determine the total number of students eligible for this scholarship. also display the serial number of these students.\n"
   ]
  },
  {
   "cell_type": "code",
   "execution_count": 48,
   "id": "dbb34772",
   "metadata": {},
   "outputs": [
    {
     "name": "stdout",
     "output_type": "stream",
     "text": [
      "Serial numbers of those students who are eligible for scholarship: \n",
      " [  1.  23.  24.  25.  26.  33.  44.  48.  53.  71.  82.  98.  99. 108.\n",
      " 109. 121. 122. 130. 139. 142. 144. 149. 152. 172. 177. 188. 194. 203.\n",
      " 204. 213. 214. 215. 216. 260. 286. 287. 298. 326. 338. 362. 373. 386.\n",
      " 398. 400.]\n",
      "Number of students eligible for scholarship: 44\n"
     ]
    }
   ],
   "source": [
    "index = np.where((adm_data[:,1] > 315) & (adm_data[:,2] > 115))\n",
    "scholarship = adm_data[:,0][index]\n",
    "print(\"Serial numbers of those students who are eligible for scholarship: \\n\",scholarship)\n",
    "print(\"Number of students eligible for scholarship:\",scholarship.size)"
   ]
  },
  {
   "cell_type": "code",
   "execution_count": null,
   "id": "717f7796",
   "metadata": {},
   "outputs": [],
   "source": []
  }
 ],
 "metadata": {
  "kernelspec": {
   "display_name": "Python 3 (ipykernel)",
   "language": "python",
   "name": "python3"
  },
  "language_info": {
   "codemirror_mode": {
    "name": "ipython",
    "version": 3
   },
   "file_extension": ".py",
   "mimetype": "text/x-python",
   "name": "python",
   "nbconvert_exporter": "python",
   "pygments_lexer": "ipython3",
   "version": "3.11.5"
  }
 },
 "nbformat": 4,
 "nbformat_minor": 5
}
