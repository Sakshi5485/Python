{
 "cells": [
  {
   "cell_type": "markdown",
   "id": "4f8c620b",
   "metadata": {},
   "source": [
    "# Employee Data Analysis"
   ]
  },
  {
   "cell_type": "markdown",
   "id": "260c03bc",
   "metadata": {},
   "source": [
    "#### TASK-1  : Calculate the average age of employees in IT  firm"
   ]
  },
  {
   "cell_type": "code",
   "execution_count": 1,
   "id": "628b13ad",
   "metadata": {},
   "outputs": [
    {
     "data": {
      "text/plain": [
       "'C:\\\\Users\\\\SHUBH\\\\Downloads'"
      ]
     },
     "execution_count": 1,
     "metadata": {},
     "output_type": "execute_result"
    }
   ],
   "source": [
    "import numpy as np\n",
    "import os\n",
    "os.getcwd()"
   ]
  },
  {
   "cell_type": "code",
   "execution_count": 2,
   "id": "a111699e",
   "metadata": {},
   "outputs": [
    {
     "data": {
      "text/plain": [
       "array([[ 1, 22],\n",
       "       [ 2, 27],\n",
       "       [ 3, 31],\n",
       "       [ 4, 29],\n",
       "       [ 5, 27],\n",
       "       [ 6, 26],\n",
       "       [ 7, 27],\n",
       "       [ 8, 23],\n",
       "       [ 9, 27],\n",
       "       [10, 32],\n",
       "       [11, 28],\n",
       "       [12, 27],\n",
       "       [13, 22],\n",
       "       [14, 27],\n",
       "       [15, 35],\n",
       "       [16, 33],\n",
       "       [17, 28],\n",
       "       [18, 22],\n",
       "       [19, 25],\n",
       "       [20, 27],\n",
       "       [21, 37],\n",
       "       [22, 27],\n",
       "       [23, 24],\n",
       "       [24, 27],\n",
       "       [25, 28],\n",
       "       [26, 26],\n",
       "       [27, 27],\n",
       "       [28, 27],\n",
       "       [29, 29],\n",
       "       [30, 49],\n",
       "       [31, 26],\n",
       "       [32, 32],\n",
       "       [33, 26],\n",
       "       [34, 24],\n",
       "       [35, 24],\n",
       "       [36, 23],\n",
       "       [37, 28],\n",
       "       [38, 28],\n",
       "       [39, 22],\n",
       "       [40, 26],\n",
       "       [41, 32],\n",
       "       [42, 35],\n",
       "       [43, 33],\n",
       "       [44, 31],\n",
       "       [45, 30],\n",
       "       [46, 36],\n",
       "       [47, 22],\n",
       "       [48, 23],\n",
       "       [49, 32],\n",
       "       [50, 34]])"
      ]
     },
     "execution_count": 2,
     "metadata": {},
     "output_type": "execute_result"
    }
   ],
   "source": [
    "emp_data = np.genfromtxt(\"DS1_C4_S1_Employee_Data_Challenge.csv\",delimiter=\",\",skip_header = 1,dtype = \"int\")\n",
    "emp_data"
   ]
  },
  {
   "cell_type": "code",
   "execution_count": 3,
   "id": "ef8edf62",
   "metadata": {},
   "outputs": [
    {
     "name": "stdout",
     "output_type": "stream",
     "text": [
      "Average age of employees in IT firm is :  28.26\n"
     ]
    }
   ],
   "source": [
    "avg_age = np.mean(emp_data[:,1])\n",
    "print(\"Average age of employees in IT firm is : \",avg_age)"
   ]
  },
  {
   "cell_type": "markdown",
   "id": "30c52ea6",
   "metadata": {},
   "source": [
    "### "
   ]
  },
  {
   "cell_type": "markdown",
   "id": "7dd4d278",
   "metadata": {},
   "source": [
    "#### TASK-2 : Display the employee IDs/code of those employees who are over 25 years of age. find the count of these employees."
   ]
  },
  {
   "cell_type": "code",
   "execution_count": 4,
   "id": "41100f86",
   "metadata": {},
   "outputs": [
    {
     "name": "stdout",
     "output_type": "stream",
     "text": [
      "Employees ids whose age is over 25 :\n",
      " [ 2  3  4  5  6  7  9 10 11 12 14 15 16 17 20 21 22 24 25 26 27 28 29 30\n",
      " 31 32 33 37 38 40 41 42 43 44 45 46 49 50]\n",
      "\n",
      "Count of employees over age 25: 38\n"
     ]
    }
   ],
   "source": [
    "index = np.where(emp_data[:,1] > 25)\n",
    "emp_id = emp_data[:,0][index]\n",
    "print(\"Employees ids whose age is over 25 :\\n\",emp_id)\n",
    "print()\n",
    "print(\"Count of employees over age 25:\",emp_id.size)"
   ]
  },
  {
   "cell_type": "markdown",
   "id": "483715f2",
   "metadata": {},
   "source": [
    "### "
   ]
  },
  {
   "cell_type": "markdown",
   "id": "b9aac4bb",
   "metadata": {},
   "source": [
    "#### TASK-3 : Calculate the total number of employees who are in the age group 30 to 35. display the employee ids of these employees"
   ]
  },
  {
   "cell_type": "code",
   "execution_count": 5,
   "id": "bd2816f6",
   "metadata": {},
   "outputs": [
    {
     "name": "stdout",
     "output_type": "stream",
     "text": [
      "Number of employees who are in age group 30 to 35 :  12\n",
      "\n",
      "Employee IDs :  [ 3 10 15 16 32 41 42 43 44 45 49 50]\n"
     ]
    }
   ],
   "source": [
    "index1 = np.where((emp_data[:,1] >=30) & (emp_data[:,1] <=35))\n",
    "emp_id_30_35 = emp_data[:,0][index1]\n",
    "print(\"Number of employees who are in age group 30 to 35 : \",emp_id_30_35.size)\n",
    "print()\n",
    "print(\"Employee IDs : \",emp_id_30_35)"
   ]
  },
  {
   "cell_type": "markdown",
   "id": "789c2dd6",
   "metadata": {},
   "source": [
    "### "
   ]
  }
 ],
 "metadata": {
  "kernelspec": {
   "display_name": "Python 3 (ipykernel)",
   "language": "python",
   "name": "python3"
  },
  "language_info": {
   "codemirror_mode": {
    "name": "ipython",
    "version": 3
   },
   "file_extension": ".py",
   "mimetype": "text/x-python",
   "name": "python",
   "nbconvert_exporter": "python",
   "pygments_lexer": "ipython3",
   "version": "3.11.5"
  }
 },
 "nbformat": 4,
 "nbformat_minor": 5
}
