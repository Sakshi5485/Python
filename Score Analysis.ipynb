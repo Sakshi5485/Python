{
 "cells": [
  {
   "cell_type": "markdown",
   "id": "5cca5839",
   "metadata": {},
   "source": [
    "# Score Analysis"
   ]
  },
  {
   "cell_type": "markdown",
   "id": "c90c7c35",
   "metadata": {},
   "source": [
    "# "
   ]
  },
  {
   "cell_type": "code",
   "execution_count": 1,
   "id": "1a073f65",
   "metadata": {},
   "outputs": [],
   "source": [
    "import pandas as pd\n",
    "import statistics as st\n",
    "import matplotlib.pyplot as plt\n",
    "import seaborn as sns\n",
    "import numpy as np"
   ]
  },
  {
   "cell_type": "code",
   "execution_count": 2,
   "id": "36fd6297",
   "metadata": {},
   "outputs": [
    {
     "data": {
      "text/html": [
       "<div>\n",
       "<style scoped>\n",
       "    .dataframe tbody tr th:only-of-type {\n",
       "        vertical-align: middle;\n",
       "    }\n",
       "\n",
       "    .dataframe tbody tr th {\n",
       "        vertical-align: top;\n",
       "    }\n",
       "\n",
       "    .dataframe thead th {\n",
       "        text-align: right;\n",
       "    }\n",
       "</style>\n",
       "<table border=\"1\" class=\"dataframe\">\n",
       "  <thead>\n",
       "    <tr style=\"text-align: right;\">\n",
       "      <th></th>\n",
       "      <th>Statistics</th>\n",
       "      <th>Python</th>\n",
       "      <th>Tableau</th>\n",
       "    </tr>\n",
       "  </thead>\n",
       "  <tbody>\n",
       "    <tr>\n",
       "      <th>0</th>\n",
       "      <td>61</td>\n",
       "      <td>86</td>\n",
       "      <td>66</td>\n",
       "    </tr>\n",
       "    <tr>\n",
       "      <th>1</th>\n",
       "      <td>54</td>\n",
       "      <td>86</td>\n",
       "      <td>72</td>\n",
       "    </tr>\n",
       "    <tr>\n",
       "      <th>2</th>\n",
       "      <td>56</td>\n",
       "      <td>80</td>\n",
       "      <td>78</td>\n",
       "    </tr>\n",
       "    <tr>\n",
       "      <th>3</th>\n",
       "      <td>54</td>\n",
       "      <td>85</td>\n",
       "      <td>45</td>\n",
       "    </tr>\n",
       "    <tr>\n",
       "      <th>4</th>\n",
       "      <td>53</td>\n",
       "      <td>84</td>\n",
       "      <td>68</td>\n",
       "    </tr>\n",
       "    <tr>\n",
       "      <th>...</th>\n",
       "      <td>...</td>\n",
       "      <td>...</td>\n",
       "      <td>...</td>\n",
       "    </tr>\n",
       "    <tr>\n",
       "      <th>95</th>\n",
       "      <td>60</td>\n",
       "      <td>76</td>\n",
       "      <td>64</td>\n",
       "    </tr>\n",
       "    <tr>\n",
       "      <th>96</th>\n",
       "      <td>59</td>\n",
       "      <td>89</td>\n",
       "      <td>70</td>\n",
       "    </tr>\n",
       "    <tr>\n",
       "      <th>97</th>\n",
       "      <td>62</td>\n",
       "      <td>80</td>\n",
       "      <td>46</td>\n",
       "    </tr>\n",
       "    <tr>\n",
       "      <th>98</th>\n",
       "      <td>58</td>\n",
       "      <td>89</td>\n",
       "      <td>74</td>\n",
       "    </tr>\n",
       "    <tr>\n",
       "      <th>99</th>\n",
       "      <td>67</td>\n",
       "      <td>77</td>\n",
       "      <td>70</td>\n",
       "    </tr>\n",
       "  </tbody>\n",
       "</table>\n",
       "<p>100 rows × 3 columns</p>\n",
       "</div>"
      ],
      "text/plain": [
       "    Statistics  Python  Tableau\n",
       "0           61      86       66\n",
       "1           54      86       72\n",
       "2           56      80       78\n",
       "3           54      85       45\n",
       "4           53      84       68\n",
       "..         ...     ...      ...\n",
       "95          60      76       64\n",
       "96          59      89       70\n",
       "97          62      80       46\n",
       "98          58      89       74\n",
       "99          67      77       70\n",
       "\n",
       "[100 rows x 3 columns]"
      ]
     },
     "execution_count": 2,
     "metadata": {},
     "output_type": "execute_result"
    }
   ],
   "source": [
    "data = pd.read_csv(\"DS1_C4_S7_Students_Scores_Data_Practice.csv\")\n",
    "data"
   ]
  },
  {
   "cell_type": "markdown",
   "id": "c0f0c785",
   "metadata": {},
   "source": [
    "## "
   ]
  },
  {
   "cell_type": "markdown",
   "id": "0ef3fde4",
   "metadata": {},
   "source": [
    "## TASK - 1 :"
   ]
  },
  {
   "cell_type": "markdown",
   "id": "cb764c46",
   "metadata": {},
   "source": [
    "### Use the measures of central tendency to identify the subject in which the students have shown the best performance. While comparing the performance of three different subjects, one might just look at the average score in each subject and compare which subject has the highest average score and declare that subject as the one in which students have performed the best. Here, you need to look beyond the mean."
   ]
  },
  {
   "cell_type": "code",
   "execution_count": 3,
   "id": "1278de7c",
   "metadata": {},
   "outputs": [
    {
     "data": {
      "text/html": [
       "<div>\n",
       "<style scoped>\n",
       "    .dataframe tbody tr th:only-of-type {\n",
       "        vertical-align: middle;\n",
       "    }\n",
       "\n",
       "    .dataframe tbody tr th {\n",
       "        vertical-align: top;\n",
       "    }\n",
       "\n",
       "    .dataframe thead th {\n",
       "        text-align: right;\n",
       "    }\n",
       "</style>\n",
       "<table border=\"1\" class=\"dataframe\">\n",
       "  <thead>\n",
       "    <tr style=\"text-align: right;\">\n",
       "      <th></th>\n",
       "      <th>Measures</th>\n",
       "      <th>Statistics</th>\n",
       "      <th>Python</th>\n",
       "      <th>Tableau</th>\n",
       "    </tr>\n",
       "  </thead>\n",
       "  <tbody>\n",
       "    <tr>\n",
       "      <th>0</th>\n",
       "      <td>Mean</td>\n",
       "      <td>60.89</td>\n",
       "      <td>81.84</td>\n",
       "      <td>68.02</td>\n",
       "    </tr>\n",
       "    <tr>\n",
       "      <th>1</th>\n",
       "      <td>Median</td>\n",
       "      <td>60.00</td>\n",
       "      <td>82.00</td>\n",
       "      <td>69.00</td>\n",
       "    </tr>\n",
       "    <tr>\n",
       "      <th>2</th>\n",
       "      <td>Mode</td>\n",
       "      <td>55.00</td>\n",
       "      <td>86.00</td>\n",
       "      <td>65.00</td>\n",
       "    </tr>\n",
       "  </tbody>\n",
       "</table>\n",
       "</div>"
      ],
      "text/plain": [
       "  Measures  Statistics  Python  Tableau\n",
       "0     Mean       60.89   81.84    68.02\n",
       "1   Median       60.00   82.00    69.00\n",
       "2     Mode       55.00   86.00    65.00"
      ]
     },
     "execution_count": 3,
     "metadata": {},
     "output_type": "execute_result"
    }
   ],
   "source": [
    "Mean = []\n",
    "Median = []\n",
    "Mode = []\n",
    "\n",
    "for i in data:\n",
    "    Mean.append(data.loc[:,i].mean()) \n",
    "    Median.append(data.loc[:,i].median()) \n",
    "    Mode.append(st.mode(data[i]))\n",
    "    \n",
    "row = ['Mean','Median','Mode']\n",
    "col = [\"Statistics\",\"Python\",\"Tableau\"]\n",
    "\n",
    "best_performance = pd.DataFrame([Mean, Median, Mode],columns=col)\n",
    "\n",
    "best_performance.insert(0, \"Measures\", row, True)\n",
    "\n",
    "best_performance"
   ]
  },
  {
   "cell_type": "markdown",
   "id": "7c8185a7",
   "metadata": {},
   "source": [
    "### Interpretation  : Students have shown best performance in \"Python\" subject."
   ]
  },
  {
   "cell_type": "markdown",
   "id": "4226202f",
   "metadata": {},
   "source": [
    "# "
   ]
  },
  {
   "cell_type": "markdown",
   "id": "37fa99c9",
   "metadata": {},
   "source": [
    "## TASK - 2 : "
   ]
  },
  {
   "cell_type": "markdown",
   "id": "84ed3480",
   "metadata": {},
   "source": [
    "### Measure variability to identify the subject that shows the best performance for the class."
   ]
  },
  {
   "cell_type": "code",
   "execution_count": 4,
   "id": "3737d790",
   "metadata": {},
   "outputs": [
    {
     "data": {
      "text/html": [
       "<div>\n",
       "<style scoped>\n",
       "    .dataframe tbody tr th:only-of-type {\n",
       "        vertical-align: middle;\n",
       "    }\n",
       "\n",
       "    .dataframe tbody tr th {\n",
       "        vertical-align: top;\n",
       "    }\n",
       "\n",
       "    .dataframe thead th {\n",
       "        text-align: right;\n",
       "    }\n",
       "</style>\n",
       "<table border=\"1\" class=\"dataframe\">\n",
       "  <thead>\n",
       "    <tr style=\"text-align: right;\">\n",
       "      <th></th>\n",
       "      <th>Measures</th>\n",
       "      <th>Statistics</th>\n",
       "      <th>Python</th>\n",
       "      <th>Tableau</th>\n",
       "    </tr>\n",
       "  </thead>\n",
       "  <tbody>\n",
       "    <tr>\n",
       "      <th>0</th>\n",
       "      <td>Variance</td>\n",
       "      <td>52.361515</td>\n",
       "      <td>18.883232</td>\n",
       "      <td>53.595556</td>\n",
       "    </tr>\n",
       "    <tr>\n",
       "      <th>1</th>\n",
       "      <td>Coefficient of Variance</td>\n",
       "      <td>85.993620</td>\n",
       "      <td>23.073353</td>\n",
       "      <td>78.793819</td>\n",
       "    </tr>\n",
       "    <tr>\n",
       "      <th>2</th>\n",
       "      <td>Mean</td>\n",
       "      <td>60.890000</td>\n",
       "      <td>81.840000</td>\n",
       "      <td>68.020000</td>\n",
       "    </tr>\n",
       "  </tbody>\n",
       "</table>\n",
       "</div>"
      ],
      "text/plain": [
       "                  Measures  Statistics     Python    Tableau\n",
       "0                 Variance   52.361515  18.883232  53.595556\n",
       "1  Coefficient of Variance   85.993620  23.073353  78.793819\n",
       "2                     Mean   60.890000  81.840000  68.020000"
      ]
     },
     "execution_count": 4,
     "metadata": {},
     "output_type": "execute_result"
    }
   ],
   "source": [
    "Variance = []\n",
    "Co_Variance = []\n",
    "Mean = []\n",
    "\n",
    "for i in data:\n",
    "    V = st.variance(data.loc[:,i])\n",
    "    Variance.append(V)\n",
    "    M = data.loc[:,i].mean()\n",
    "    Mean.append(M)\n",
    "    Co_Variance.append(V/M*100)\n",
    "\n",
    "row = [\"Variance\",\"Coefficient of Variance\",\"Mean\"]\n",
    "column = [\"Statistics\",\"Python\",\"Tableau\"]\n",
    "\n",
    "variability = pd.DataFrame([Variance,Co_Variance,Mean],columns=column)\n",
    "variability.insert(0,\"Measures\",row,True)\n",
    "variability"
   ]
  },
  {
   "cell_type": "markdown",
   "id": "8e6a4fc7",
   "metadata": {},
   "source": [
    "### Interpretation : Python is the subject which shows the best performance."
   ]
  },
  {
   "cell_type": "markdown",
   "id": "975f4f8e",
   "metadata": {},
   "source": [
    "## "
   ]
  },
  {
   "cell_type": "markdown",
   "id": "46c19994",
   "metadata": {},
   "source": [
    "## TASK - 3 :"
   ]
  },
  {
   "cell_type": "markdown",
   "id": "d9fec62e",
   "metadata": {},
   "source": [
    "### Identify the subject in which scores are most skewed."
   ]
  },
  {
   "cell_type": "code",
   "execution_count": 5,
   "id": "844ea65b",
   "metadata": {},
   "outputs": [
    {
     "data": {
      "text/html": [
       "<div>\n",
       "<style scoped>\n",
       "    .dataframe tbody tr th:only-of-type {\n",
       "        vertical-align: middle;\n",
       "    }\n",
       "\n",
       "    .dataframe tbody tr th {\n",
       "        vertical-align: top;\n",
       "    }\n",
       "\n",
       "    .dataframe thead th {\n",
       "        text-align: right;\n",
       "    }\n",
       "</style>\n",
       "<table border=\"1\" class=\"dataframe\">\n",
       "  <thead>\n",
       "    <tr style=\"text-align: right;\">\n",
       "      <th></th>\n",
       "      <th>Subjects</th>\n",
       "      <th>Q1</th>\n",
       "      <th>Q3</th>\n",
       "      <th>IQR</th>\n",
       "      <th>Upper Fence</th>\n",
       "      <th>Lower Fence</th>\n",
       "      <th>Outliers</th>\n",
       "    </tr>\n",
       "  </thead>\n",
       "  <tbody>\n",
       "    <tr>\n",
       "      <th>0</th>\n",
       "      <td>Statistics</td>\n",
       "      <td>54.0</td>\n",
       "      <td>67.00</td>\n",
       "      <td>13.00</td>\n",
       "      <td>86.500</td>\n",
       "      <td>34.500</td>\n",
       "      <td>[[], []]</td>\n",
       "    </tr>\n",
       "    <tr>\n",
       "      <th>1</th>\n",
       "      <td>Python</td>\n",
       "      <td>78.0</td>\n",
       "      <td>86.00</td>\n",
       "      <td>8.00</td>\n",
       "      <td>98.000</td>\n",
       "      <td>66.000</td>\n",
       "      <td>[[], []]</td>\n",
       "    </tr>\n",
       "    <tr>\n",
       "      <th>2</th>\n",
       "      <td>Tableau</td>\n",
       "      <td>64.0</td>\n",
       "      <td>73.25</td>\n",
       "      <td>9.25</td>\n",
       "      <td>87.125</td>\n",
       "      <td>50.125</td>\n",
       "      <td>[[45, 50, 50, 50, 46, 46], []]</td>\n",
       "    </tr>\n",
       "  </tbody>\n",
       "</table>\n",
       "</div>"
      ],
      "text/plain": [
       "     Subjects    Q1     Q3    IQR  Upper Fence  Lower Fence  \\\n",
       "0  Statistics  54.0  67.00  13.00       86.500       34.500   \n",
       "1      Python  78.0  86.00   8.00       98.000       66.000   \n",
       "2     Tableau  64.0  73.25   9.25       87.125       50.125   \n",
       "\n",
       "                         Outliers  \n",
       "0                        [[], []]  \n",
       "1                        [[], []]  \n",
       "2  [[45, 50, 50, 50, 46, 46], []]  "
      ]
     },
     "execution_count": 5,
     "metadata": {},
     "output_type": "execute_result"
    }
   ],
   "source": [
    "for i in data:\n",
    "    LO = []\n",
    "    UO = []\n",
    "    sub_series = pd.Series(data[i])\n",
    "    \n",
    "    Q1 = sub_series.quantile(0.25)\n",
    "    Q3 = sub_series.quantile(0.75)\n",
    "    IQR = Q3 - Q1\n",
    "    UF = Q3 + (1.5*IQR)\n",
    "    LF = Q1 - (1.5*IQR)\n",
    "    \n",
    "    for a in data[i]:\n",
    "        if a < LF:\n",
    "            LO.append(a)\n",
    "        if a > UF:\n",
    "            UO.append(a)\n",
    "            \n",
    "    if i==\"Statistics\":\n",
    "        Statistics = [\"Statistics\",Q1,Q3,IQR,UF,LF,[LO,UO]]\n",
    "    elif i==\"Python\":\n",
    "        Python = [\"Python\",Q1,Q3,IQR,UF,LF,[LO,UO]]\n",
    "    else:\n",
    "        Tableau = [\"Tableau\",Q1,Q3,IQR,UF,LF,[LO,UO]]\n",
    "        \n",
    "column = [\"Subjects\",\"Q1\",\"Q3\",\"IQR\",\"Upper Fence\",\"Lower Fence\",\"Outliers\"]\n",
    "\n",
    "outlier = pd.DataFrame([Statistics,Python,Tableau],columns=column)\n",
    "outlier"
   ]
  },
  {
   "cell_type": "markdown",
   "id": "9b797af1",
   "metadata": {},
   "source": [
    "### Interpretation : In Tableau subject the scores are most skewed."
   ]
  },
  {
   "cell_type": "markdown",
   "id": "89364440",
   "metadata": {},
   "source": [
    "## "
   ]
  },
  {
   "cell_type": "markdown",
   "id": "dfe42abb",
   "metadata": {},
   "source": [
    "## TASK - 4 :"
   ]
  },
  {
   "cell_type": "markdown",
   "id": "af5bbe7a",
   "metadata": {},
   "source": [
    "### Visually present the distribution of scores obtained by the students in different subjects using box plots. Identify the subject for which the scores are most skewed."
   ]
  },
  {
   "cell_type": "code",
   "execution_count": 6,
   "id": "ef1624b0",
   "metadata": {},
   "outputs": [],
   "source": [
    "statistics_score = data[\"Statistics\"].tolist()\n",
    "python_score = data[\"Python\"].tolist()\n",
    "tableau_score = data[\"Tableau\"].tolist()"
   ]
  },
  {
   "cell_type": "code",
   "execution_count": 7,
   "id": "ebbdec37",
   "metadata": {},
   "outputs": [
    {
     "data": {
      "image/png": "[encoded data removed]",
      "text/plain": [
       "<Figure size 700x400 with 1 Axes>"
      ]
     },
     "metadata": {},
     "output_type": "display_data"
    }
   ],
   "source": [
    "fig = plt.figure(figsize =(7, 4))\n",
    "\n",
    "ax = fig.add_axes([0, 0, 1, 1])\n",
    "\n",
    "plt.boxplot([statistics_score,python_score,tableau_score],vert=0)\n",
    "\n",
    "ax.set_yticklabels([\"Statistics\",\"Python\",\"Tableau\"])\n",
    "\n",
    "plt.show()"
   ]
  },
  {
   "cell_type": "markdown",
   "id": "af9e4a7f",
   "metadata": {},
   "source": [
    "### Interpretation : In Tableau subject scores are most skewed."
   ]
  },
  {
   "cell_type": "markdown",
   "id": "d0f0b01e",
   "metadata": {},
   "source": [
    "## "
   ]
  },
  {
   "cell_type": "markdown",
   "id": "67c926b4",
   "metadata": {},
   "source": [
    "## TASK - 5 :"
   ]
  },
  {
   "cell_type": "markdown",
   "id": "1fc890e7",
   "metadata": {},
   "source": [
    "### Present the distribution of data for each subject using normal distribution curves (bell curves). Observe and report the kurtosis analysis for every subject."
   ]
  },
  {
   "cell_type": "code",
   "execution_count": 8,
   "id": "7ad010d0",
   "metadata": {},
   "outputs": [
    {
     "name": "stdout",
     "output_type": "stream",
     "text": [
      "[<Axes: > <Axes: > <Axes: >]\n"
     ]
    },
    {
     "data": {
      "image/png": "[encoded data removed]",
      "text/plain": [
       "<Figure size 1000x300 with 3 Axes>"
      ]
     },
     "metadata": {},
     "output_type": "display_data"
    }
   ],
   "source": [
    "import warnings\n",
    "warnings.filterwarnings(\"ignore\")\n",
    "\n",
    "fig, axis = plt.subplots(1, 3, figsize=(10,3), dpi=100, sharex=True, sharey=True)\n",
    "print(axis.flatten())\n",
    "\n",
    "colors = [\"red\", \"green\", \"blue\"]\n",
    "\n",
    "cols=[\"Statistics\", \"Python\", \"Tableau\"]\n",
    "\n",
    "plt.suptitle(\"Histogram of Score\", size=14)\n",
    "\n",
    "ax.set_xlim(10, 100) \n",
    "ax.set_ylim(0.0, 8.0)\n",
    "\n",
    "for i, (ax, col) in enumerate(zip(axis, cols)):\n",
    "    x = data.loc[:,col].tolist() \n",
    "    sns.distplot(x, ax=axis[i], color=colors[i])\n",
    "    ax.set_title(col)\n",
    "\n",
    "plt.tight_layout();\n",
    "\n",
    "plt.show()    "
   ]
  },
  {
   "cell_type": "code",
   "execution_count": 9,
   "id": "4a3caea2",
   "metadata": {},
   "outputs": [
    {
     "data": {
      "image/png": "[encoded data removed]",
      "text/plain": [
       "<Figure size 640x480 with 1 Axes>"
      ]
     },
     "metadata": {},
     "output_type": "display_data"
    }
   ],
   "source": [
    "from scipy.stats import norm\n",
    "\n",
    "statistics_score = sorted(statistics_score)\n",
    "python_score = sorted(python_score)\n",
    "tableau_score = sorted(tableau_score)\n",
    "\n",
    "stat_mean = st.mean(statistics_score)\n",
    "stat_sd = st.stdev(statistics_score)\n",
    "pyt_mean = st.mean(python_score)\n",
    "pyt_sd = st.stdev(python_score)\n",
    "tab_mean = st.mean(tableau_score)\n",
    "tab_sd = st.stdev(tableau_score)\n",
    "\n",
    "plt.plot(statistics_score, norm.pdf(statistics_score, stat_mean, stat_sd), color='red', label='Statistics')\n",
    "plt.plot(python_score, norm.pdf(python_score, pyt_mean, pyt_sd),color='green', label='Python')\n",
    "plt.plot(tableau_score, norm.pdf(tableau_score, tab_mean, tab_sd), color='blue', label='Tableau')\n",
    "\n",
    "plt.legend()\n",
    "\n",
    "plt.show()"
   ]
  },
  {
   "cell_type": "code",
   "execution_count": 10,
   "id": "bdfa7cc4",
   "metadata": {},
   "outputs": [
    {
     "name": "stdout",
     "output_type": "stream",
     "text": [
      "Kurtosis of Statistics Score :  -1.2890343729055107\n",
      "Kurtosis of Python Score :  -1.2748529079288784\n",
      "Kurtosis of Tableau Score :  1.442459054422362\n"
     ]
    }
   ],
   "source": [
    "from scipy.stats import kurtosis \n",
    "\n",
    "print(\"Kurtosis of Statistics Score : \",kurtosis(statistics_score))\n",
    "print(\"Kurtosis of Python Score : \",kurtosis(python_score))\n",
    "print(\"Kurtosis of Tableau Score : \",kurtosis(tableau_score))"
   ]
  },
  {
   "cell_type": "markdown",
   "id": "08646fa9",
   "metadata": {},
   "source": [
    "### Interpretation : In the Statistics and Python scores, there are less chances of the presence of outliers in the given data. But, in Tableau scores, there is a higher chance of outliers present in the data."
   ]
  },
  {
   "cell_type": "code",
   "execution_count": null,
   "id": "7523be15",
   "metadata": {},
   "outputs": [],
   "source": []
  }
 ],
 "metadata": {
  "kernelspec": {
   "display_name": "Python 3 (ipykernel)",
   "language": "python",
   "name": "python3"
  },
  "language_info": {
   "codemirror_mode": {
    "name": "ipython",
    "version": 3
   },
   "file_extension": ".py",
   "mimetype": "text/x-python",
   "name": "python",
   "nbconvert_exporter": "python",
   "pygments_lexer": "ipython3",
   "version": "3.11.5"
  }
 },
 "nbformat": 4,
 "nbformat_minor": 5
}
