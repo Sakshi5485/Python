{
 "cells": [
  {
   "cell_type": "markdown",
   "id": "fa54fa33",
   "metadata": {},
   "source": [
    "# Test Score of Students"
   ]
  },
  {
   "cell_type": "code",
   "execution_count": 1,
   "id": "ea5e87f7",
   "metadata": {},
   "outputs": [],
   "source": [
    "import pandas as pd\n",
    "import numpy as np"
   ]
  },
  {
   "cell_type": "code",
   "execution_count": 2,
   "id": "7d1a9998",
   "metadata": {},
   "outputs": [],
   "source": [
    "std_data = pd.read_csv(\"DS1_C4_S4_Test_Scores_Data_Practice.csv\")"
   ]
  },
  {
   "cell_type": "code",
   "execution_count": 3,
   "id": "ff90d303",
   "metadata": {},
   "outputs": [
    {
     "data": {
      "text/plain": [
       "(2133, 10)"
      ]
     },
     "execution_count": 3,
     "metadata": {},
     "output_type": "execute_result"
    }
   ],
   "source": [
    "std_data.shape"
   ]
  },
  {
   "cell_type": "markdown",
   "id": "8ba95bfd",
   "metadata": {},
   "source": [
    "## TASK - 1:"
   ]
  },
  {
   "cell_type": "markdown",
   "id": "8a176c71",
   "metadata": {},
   "source": [
    "### Load the data from the file into a data frame and identify the missing values (if any) using the command, treat the missing values with the most frequently found data in that column. Identify the most freuently found data for any column with missing values."
   ]
  },
  {
   "cell_type": "code",
   "execution_count": 4,
   "id": "d0d5e980",
   "metadata": {},
   "outputs": [
    {
     "data": {
      "text/plain": [
       "school                0\n",
       "school_setting        0\n",
       "school_type           0\n",
       "classroom             0\n",
       "teaching_method       0\n",
       "student_id            0\n",
       "gender               10\n",
       "tuitionfee_waiver     0\n",
       "test1                 4\n",
       "test2                 4\n",
       "dtype: int64"
      ]
     },
     "execution_count": 4,
     "metadata": {},
     "output_type": "execute_result"
    }
   ],
   "source": [
    "std_data.isnull().sum()"
   ]
  },
  {
   "cell_type": "code",
   "execution_count": 5,
   "id": "ef601331",
   "metadata": {},
   "outputs": [
    {
     "data": {
      "text/plain": [
       "gender\n",
       "Male      1071\n",
       "Female    1052\n",
       "Name: count, dtype: int64"
      ]
     },
     "execution_count": 5,
     "metadata": {},
     "output_type": "execute_result"
    }
   ],
   "source": [
    "std_data[\"gender\"].value_counts()"
   ]
  },
  {
   "cell_type": "code",
   "execution_count": 6,
   "id": "2d9a91ae",
   "metadata": {},
   "outputs": [],
   "source": [
    "std_data[\"gender\"] = std_data[\"gender\"].fillna(\"Male\")\n",
    "std_data[\"test1\"] = std_data[\"test1\"].fillna(std_data[\"test1\"].mean())\n",
    "std_data[\"test2\"] = std_data[\"test2\"].fillna(std_data[\"test2\"].median())"
   ]
  },
  {
   "cell_type": "code",
   "execution_count": 7,
   "id": "05cf8a0f",
   "metadata": {},
   "outputs": [
    {
     "data": {
      "text/plain": [
       "school               0\n",
       "school_setting       0\n",
       "school_type          0\n",
       "classroom            0\n",
       "teaching_method      0\n",
       "student_id           0\n",
       "gender               0\n",
       "tuitionfee_waiver    0\n",
       "test1                0\n",
       "test2                0\n",
       "dtype: int64"
      ]
     },
     "execution_count": 7,
     "metadata": {},
     "output_type": "execute_result"
    }
   ],
   "source": [
    "std_data.isnull().sum()"
   ]
  },
  {
   "cell_type": "markdown",
   "id": "654c711f",
   "metadata": {},
   "source": [
    "## "
   ]
  },
  {
   "cell_type": "markdown",
   "id": "c7a7e9f7",
   "metadata": {},
   "source": [
    "## TASK - 2 :"
   ]
  },
  {
   "cell_type": "markdown",
   "id": "11b3747b",
   "metadata": {},
   "source": [
    "### Identify and display the duplicate rows (if any). Delete the duplicate rows in the data."
   ]
  },
  {
   "cell_type": "code",
   "execution_count": 8,
   "id": "677c72ef",
   "metadata": {},
   "outputs": [
    {
     "data": {
      "text/plain": [
       "(2133, 10)"
      ]
     },
     "execution_count": 8,
     "metadata": {},
     "output_type": "execute_result"
    }
   ],
   "source": [
    "std_data.shape"
   ]
  },
  {
   "cell_type": "code",
   "execution_count": 9,
   "id": "b42772a3",
   "metadata": {},
   "outputs": [
    {
     "data": {
      "text/plain": [
       "(0, 10)"
      ]
     },
     "execution_count": 9,
     "metadata": {},
     "output_type": "execute_result"
    }
   ],
   "source": [
    "std_data[std_data.duplicated(keep=\"first\")].shape"
   ]
  },
  {
   "cell_type": "markdown",
   "id": "89b79168",
   "metadata": {},
   "source": [
    "Interpretation : There is no any duplicate record found in given data."
   ]
  },
  {
   "cell_type": "markdown",
   "id": "aeb9e2ef",
   "metadata": {},
   "source": [
    "## "
   ]
  },
  {
   "cell_type": "markdown",
   "id": "1161963c",
   "metadata": {},
   "source": [
    "## TASK - 3 :"
   ]
  },
  {
   "cell_type": "markdown",
   "id": "6e575eb6",
   "metadata": {},
   "source": [
    "### In the column named \"tuitionfee_waiver\", replace the value \"Does not quality\" and \"Qualifies for reduced/free\" with No and Yes, respectively. Display the updated column data and verify if the values are replaced."
   ]
  },
  {
   "cell_type": "code",
   "execution_count": 10,
   "id": "0c920bd3",
   "metadata": {},
   "outputs": [
    {
     "data": {
      "text/html": [
       "<div>\n",
       "<style scoped>\n",
       "    .dataframe tbody tr th:only-of-type {\n",
       "        vertical-align: middle;\n",
       "    }\n",
       "\n",
       "    .dataframe tbody tr th {\n",
       "        vertical-align: top;\n",
       "    }\n",
       "\n",
       "    .dataframe thead th {\n",
       "        text-align: right;\n",
       "    }\n",
       "</style>\n",
       "<table border=\"1\" class=\"dataframe\">\n",
       "  <thead>\n",
       "    <tr style=\"text-align: right;\">\n",
       "      <th></th>\n",
       "      <th>school</th>\n",
       "      <th>school_setting</th>\n",
       "      <th>school_type</th>\n",
       "      <th>classroom</th>\n",
       "      <th>teaching_method</th>\n",
       "      <th>student_id</th>\n",
       "      <th>gender</th>\n",
       "      <th>tuitionfee_waiver</th>\n",
       "      <th>test1</th>\n",
       "      <th>test2</th>\n",
       "    </tr>\n",
       "  </thead>\n",
       "  <tbody>\n",
       "    <tr>\n",
       "      <th>0</th>\n",
       "      <td>ANKYI</td>\n",
       "      <td>Urban</td>\n",
       "      <td>Non-public</td>\n",
       "      <td>6OL</td>\n",
       "      <td>Standard</td>\n",
       "      <td>2FHT3</td>\n",
       "      <td>Female</td>\n",
       "      <td>No</td>\n",
       "      <td>62.0</td>\n",
       "      <td>72.0</td>\n",
       "    </tr>\n",
       "    <tr>\n",
       "      <th>1</th>\n",
       "      <td>ANKYI</td>\n",
       "      <td>Urban</td>\n",
       "      <td>Non-public</td>\n",
       "      <td>6OL</td>\n",
       "      <td>Standard</td>\n",
       "      <td>3JIVH</td>\n",
       "      <td>Female</td>\n",
       "      <td>No</td>\n",
       "      <td>66.0</td>\n",
       "      <td>79.0</td>\n",
       "    </tr>\n",
       "    <tr>\n",
       "      <th>2</th>\n",
       "      <td>ANKYI</td>\n",
       "      <td>Urban</td>\n",
       "      <td>Non-public</td>\n",
       "      <td>6OL</td>\n",
       "      <td>Standard</td>\n",
       "      <td>3XOWE</td>\n",
       "      <td>Male</td>\n",
       "      <td>No</td>\n",
       "      <td>64.0</td>\n",
       "      <td>76.0</td>\n",
       "    </tr>\n",
       "    <tr>\n",
       "      <th>3</th>\n",
       "      <td>ANKYI</td>\n",
       "      <td>Urban</td>\n",
       "      <td>Non-public</td>\n",
       "      <td>6OL</td>\n",
       "      <td>Standard</td>\n",
       "      <td>556O0</td>\n",
       "      <td>Female</td>\n",
       "      <td>No</td>\n",
       "      <td>61.0</td>\n",
       "      <td>77.0</td>\n",
       "    </tr>\n",
       "    <tr>\n",
       "      <th>4</th>\n",
       "      <td>ANKYI</td>\n",
       "      <td>Urban</td>\n",
       "      <td>Non-public</td>\n",
       "      <td>6OL</td>\n",
       "      <td>Standard</td>\n",
       "      <td>74LOE</td>\n",
       "      <td>Male</td>\n",
       "      <td>No</td>\n",
       "      <td>64.0</td>\n",
       "      <td>76.0</td>\n",
       "    </tr>\n",
       "    <tr>\n",
       "      <th>...</th>\n",
       "      <td>...</td>\n",
       "      <td>...</td>\n",
       "      <td>...</td>\n",
       "      <td>...</td>\n",
       "      <td>...</td>\n",
       "      <td>...</td>\n",
       "      <td>...</td>\n",
       "      <td>...</td>\n",
       "      <td>...</td>\n",
       "      <td>...</td>\n",
       "    </tr>\n",
       "    <tr>\n",
       "      <th>2128</th>\n",
       "      <td>ZOWMK</td>\n",
       "      <td>Urban</td>\n",
       "      <td>Public</td>\n",
       "      <td>ZBH</td>\n",
       "      <td>Standard</td>\n",
       "      <td>T8LSK</td>\n",
       "      <td>Female</td>\n",
       "      <td>No</td>\n",
       "      <td>39.0</td>\n",
       "      <td>55.0</td>\n",
       "    </tr>\n",
       "    <tr>\n",
       "      <th>2129</th>\n",
       "      <td>ZOWMK</td>\n",
       "      <td>Urban</td>\n",
       "      <td>Public</td>\n",
       "      <td>ZBH</td>\n",
       "      <td>Standard</td>\n",
       "      <td>VNP26</td>\n",
       "      <td>Female</td>\n",
       "      <td>Yes</td>\n",
       "      <td>38.0</td>\n",
       "      <td>46.0</td>\n",
       "    </tr>\n",
       "    <tr>\n",
       "      <th>2130</th>\n",
       "      <td>ZOWMK</td>\n",
       "      <td>Urban</td>\n",
       "      <td>Public</td>\n",
       "      <td>ZBH</td>\n",
       "      <td>Standard</td>\n",
       "      <td>YDR1Z</td>\n",
       "      <td>Female</td>\n",
       "      <td>Yes</td>\n",
       "      <td>45.0</td>\n",
       "      <td>51.0</td>\n",
       "    </tr>\n",
       "    <tr>\n",
       "      <th>2131</th>\n",
       "      <td>ZOWMK</td>\n",
       "      <td>Urban</td>\n",
       "      <td>Public</td>\n",
       "      <td>ZBH</td>\n",
       "      <td>Standard</td>\n",
       "      <td>YUEIH</td>\n",
       "      <td>Male</td>\n",
       "      <td>Yes</td>\n",
       "      <td>46.0</td>\n",
       "      <td>53.0</td>\n",
       "    </tr>\n",
       "    <tr>\n",
       "      <th>2132</th>\n",
       "      <td>ZOWMK</td>\n",
       "      <td>Urban</td>\n",
       "      <td>Public</td>\n",
       "      <td>ZBH</td>\n",
       "      <td>Standard</td>\n",
       "      <td>ZVCQ8</td>\n",
       "      <td>Male</td>\n",
       "      <td>Yes</td>\n",
       "      <td>41.0</td>\n",
       "      <td>48.0</td>\n",
       "    </tr>\n",
       "  </tbody>\n",
       "</table>\n",
       "<p>2133 rows × 10 columns</p>\n",
       "</div>"
      ],
      "text/plain": [
       "     school school_setting school_type classroom teaching_method student_id  \\\n",
       "0     ANKYI          Urban  Non-public       6OL        Standard      2FHT3   \n",
       "1     ANKYI          Urban  Non-public       6OL        Standard      3JIVH   \n",
       "2     ANKYI          Urban  Non-public       6OL        Standard      3XOWE   \n",
       "3     ANKYI          Urban  Non-public       6OL        Standard      556O0   \n",
       "4     ANKYI          Urban  Non-public       6OL        Standard      74LOE   \n",
       "...     ...            ...         ...       ...             ...        ...   \n",
       "2128  ZOWMK          Urban      Public       ZBH        Standard      T8LSK   \n",
       "2129  ZOWMK          Urban      Public       ZBH        Standard      VNP26   \n",
       "2130  ZOWMK          Urban      Public       ZBH        Standard      YDR1Z   \n",
       "2131  ZOWMK          Urban      Public       ZBH        Standard      YUEIH   \n",
       "2132  ZOWMK          Urban      Public       ZBH        Standard      ZVCQ8   \n",
       "\n",
       "      gender tuitionfee_waiver  test1  test2  \n",
       "0     Female                No   62.0   72.0  \n",
       "1     Female                No   66.0   79.0  \n",
       "2       Male                No   64.0   76.0  \n",
       "3     Female                No   61.0   77.0  \n",
       "4       Male                No   64.0   76.0  \n",
       "...      ...               ...    ...    ...  \n",
       "2128  Female                No   39.0   55.0  \n",
       "2129  Female               Yes   38.0   46.0  \n",
       "2130  Female               Yes   45.0   51.0  \n",
       "2131    Male               Yes   46.0   53.0  \n",
       "2132    Male               Yes   41.0   48.0  \n",
       "\n",
       "[2133 rows x 10 columns]"
      ]
     },
     "execution_count": 10,
     "metadata": {},
     "output_type": "execute_result"
    }
   ],
   "source": [
    "std_data = std_data.replace(to_replace=['Does not qualify', 'Qualifies for reduced/free '],\n",
    "                value=['No', 'Yes'])\n",
    "std_data"
   ]
  },
  {
   "cell_type": "markdown",
   "id": "edda3595",
   "metadata": {},
   "source": [
    "## "
   ]
  },
  {
   "cell_type": "markdown",
   "id": "26f88929",
   "metadata": {},
   "source": [
    "## TASK - 4 :"
   ]
  },
  {
   "cell_type": "markdown",
   "id": "6a039ec5",
   "metadata": {},
   "source": [
    "### Calculate and display the average of test1 scores of students at each school. Display the name of the school that has the highest average test1 score."
   ]
  },
  {
   "cell_type": "code",
   "execution_count": 11,
   "id": "4efc2c34",
   "metadata": {},
   "outputs": [
    {
     "name": "stdout",
     "output_type": "stream",
     "text": [
      "The highest average test1 score is of school : \n"
     ]
    },
    {
     "data": {
      "text/plain": [
       "school\n",
       "UKPGS    78.453125\n",
       "Name: test1, dtype: float64"
      ]
     },
     "execution_count": 11,
     "metadata": {},
     "output_type": "execute_result"
    }
   ],
   "source": [
    "avg_test_score = std_data.groupby(by=[\"school\"])[\"test1\"].mean()\n",
    "high_avg_test_score =avg_test_score.sort_values(ascending=False).head(1)\n",
    "print(\"The highest average test1 score is of school : \")\n",
    "high_avg_test_score"
   ]
  },
  {
   "cell_type": "markdown",
   "id": "958cf8b4",
   "metadata": {},
   "source": [
    "The UKPGS school has highest average test1 score that is 78.45"
   ]
  },
  {
   "cell_type": "markdown",
   "id": "9d0ac7c2",
   "metadata": {},
   "source": [
    "## "
   ]
  },
  {
   "cell_type": "markdown",
   "id": "9345d1dd",
   "metadata": {},
   "source": [
    "## TASK - 5 :"
   ]
  },
  {
   "cell_type": "markdown",
   "id": "4cff05af",
   "metadata": {},
   "source": [
    "### Display the highest test2 score of each school in a tabular format. Display the name of the top five schools based on the output of the above task."
   ]
  },
  {
   "cell_type": "code",
   "execution_count": 12,
   "id": "58ea52bb",
   "metadata": {},
   "outputs": [
    {
     "data": {
      "text/html": [
       "<div>\n",
       "<style scoped>\n",
       "    .dataframe tbody tr th:only-of-type {\n",
       "        vertical-align: middle;\n",
       "    }\n",
       "\n",
       "    .dataframe tbody tr th {\n",
       "        vertical-align: top;\n",
       "    }\n",
       "\n",
       "    .dataframe thead th {\n",
       "        text-align: right;\n",
       "    }\n",
       "</style>\n",
       "<table border=\"1\" class=\"dataframe\">\n",
       "  <thead>\n",
       "    <tr style=\"text-align: right;\">\n",
       "      <th></th>\n",
       "      <th>test2</th>\n",
       "    </tr>\n",
       "    <tr>\n",
       "      <th>school</th>\n",
       "      <th></th>\n",
       "    </tr>\n",
       "  </thead>\n",
       "  <tbody>\n",
       "    <tr>\n",
       "      <th>ANKYI</th>\n",
       "      <td>79.0</td>\n",
       "    </tr>\n",
       "    <tr>\n",
       "      <th>CCAAW</th>\n",
       "      <td>91.0</td>\n",
       "    </tr>\n",
       "    <tr>\n",
       "      <th>CIMBB</th>\n",
       "      <td>88.0</td>\n",
       "    </tr>\n",
       "    <tr>\n",
       "      <th>CUQAM</th>\n",
       "      <td>76.0</td>\n",
       "    </tr>\n",
       "    <tr>\n",
       "      <th>DNQDD</th>\n",
       "      <td>79.0</td>\n",
       "    </tr>\n",
       "    <tr>\n",
       "      <th>FBUMG</th>\n",
       "      <td>88.0</td>\n",
       "    </tr>\n",
       "    <tr>\n",
       "      <th>GJJHK</th>\n",
       "      <td>85.0</td>\n",
       "    </tr>\n",
       "    <tr>\n",
       "      <th>GOKXL</th>\n",
       "      <td>77.0</td>\n",
       "    </tr>\n",
       "    <tr>\n",
       "      <th>GOOBU</th>\n",
       "      <td>68.0</td>\n",
       "    </tr>\n",
       "    <tr>\n",
       "      <th>IDGFP</th>\n",
       "      <td>100.0</td>\n",
       "    </tr>\n",
       "    <tr>\n",
       "      <th>KFZMY</th>\n",
       "      <td>67.0</td>\n",
       "    </tr>\n",
       "    <tr>\n",
       "      <th>KZKKE</th>\n",
       "      <td>62.0</td>\n",
       "    </tr>\n",
       "    <tr>\n",
       "      <th>LAYPA</th>\n",
       "      <td>84.0</td>\n",
       "    </tr>\n",
       "    <tr>\n",
       "      <th>OJOBU</th>\n",
       "      <td>84.0</td>\n",
       "    </tr>\n",
       "    <tr>\n",
       "      <th>QOQTS</th>\n",
       "      <td>85.0</td>\n",
       "    </tr>\n",
       "    <tr>\n",
       "      <th>UAGPU</th>\n",
       "      <td>83.0</td>\n",
       "    </tr>\n",
       "    <tr>\n",
       "      <th>UKPGS</th>\n",
       "      <td>99.0</td>\n",
       "    </tr>\n",
       "    <tr>\n",
       "      <th>UUUQX</th>\n",
       "      <td>91.0</td>\n",
       "    </tr>\n",
       "    <tr>\n",
       "      <th>VHDHF</th>\n",
       "      <td>77.0</td>\n",
       "    </tr>\n",
       "    <tr>\n",
       "      <th>VKWQH</th>\n",
       "      <td>82.0</td>\n",
       "    </tr>\n",
       "    <tr>\n",
       "      <th>VVTVA</th>\n",
       "      <td>68.0</td>\n",
       "    </tr>\n",
       "    <tr>\n",
       "      <th>ZMNYA</th>\n",
       "      <td>95.0</td>\n",
       "    </tr>\n",
       "    <tr>\n",
       "      <th>ZOWMK</th>\n",
       "      <td>63.0</td>\n",
       "    </tr>\n",
       "  </tbody>\n",
       "</table>\n",
       "</div>"
      ],
      "text/plain": [
       "        test2\n",
       "school       \n",
       "ANKYI    79.0\n",
       "CCAAW    91.0\n",
       "CIMBB    88.0\n",
       "CUQAM    76.0\n",
       "DNQDD    79.0\n",
       "FBUMG    88.0\n",
       "GJJHK    85.0\n",
       "GOKXL    77.0\n",
       "GOOBU    68.0\n",
       "IDGFP   100.0\n",
       "KFZMY    67.0\n",
       "KZKKE    62.0\n",
       "LAYPA    84.0\n",
       "OJOBU    84.0\n",
       "QOQTS    85.0\n",
       "UAGPU    83.0\n",
       "UKPGS    99.0\n",
       "UUUQX    91.0\n",
       "VHDHF    77.0\n",
       "VKWQH    82.0\n",
       "VVTVA    68.0\n",
       "ZMNYA    95.0\n",
       "ZOWMK    63.0"
      ]
     },
     "execution_count": 12,
     "metadata": {},
     "output_type": "execute_result"
    }
   ],
   "source": [
    "max_score = pd.pivot_table(std_data, index=[\"school\"], values=[\"test2\"], aggfunc = \"max\")\n",
    "max_score"
   ]
  },
  {
   "cell_type": "code",
   "execution_count": 13,
   "id": "3f651144",
   "metadata": {},
   "outputs": [
    {
     "name": "stdout",
     "output_type": "stream",
     "text": [
      "Top five schools are:\n",
      "\n"
     ]
    },
    {
     "data": {
      "text/html": [
       "<div>\n",
       "<style scoped>\n",
       "    .dataframe tbody tr th:only-of-type {\n",
       "        vertical-align: middle;\n",
       "    }\n",
       "\n",
       "    .dataframe tbody tr th {\n",
       "        vertical-align: top;\n",
       "    }\n",
       "\n",
       "    .dataframe thead th {\n",
       "        text-align: right;\n",
       "    }\n",
       "</style>\n",
       "<table border=\"1\" class=\"dataframe\">\n",
       "  <thead>\n",
       "    <tr style=\"text-align: right;\">\n",
       "      <th></th>\n",
       "      <th>test2</th>\n",
       "    </tr>\n",
       "    <tr>\n",
       "      <th>school</th>\n",
       "      <th></th>\n",
       "    </tr>\n",
       "  </thead>\n",
       "  <tbody>\n",
       "    <tr>\n",
       "      <th>IDGFP</th>\n",
       "      <td>100.0</td>\n",
       "    </tr>\n",
       "    <tr>\n",
       "      <th>UKPGS</th>\n",
       "      <td>99.0</td>\n",
       "    </tr>\n",
       "    <tr>\n",
       "      <th>ZMNYA</th>\n",
       "      <td>95.0</td>\n",
       "    </tr>\n",
       "    <tr>\n",
       "      <th>CCAAW</th>\n",
       "      <td>91.0</td>\n",
       "    </tr>\n",
       "    <tr>\n",
       "      <th>UUUQX</th>\n",
       "      <td>91.0</td>\n",
       "    </tr>\n",
       "  </tbody>\n",
       "</table>\n",
       "</div>"
      ],
      "text/plain": [
       "        test2\n",
       "school       \n",
       "IDGFP   100.0\n",
       "UKPGS    99.0\n",
       "ZMNYA    95.0\n",
       "CCAAW    91.0\n",
       "UUUQX    91.0"
      ]
     },
     "execution_count": 13,
     "metadata": {},
     "output_type": "execute_result"
    }
   ],
   "source": [
    "top_five = max_score.sort_values(\"test2\",ascending=False).head()\n",
    "print(\"Top five schools are:\\n\")\n",
    "top_five"
   ]
  },
  {
   "cell_type": "markdown",
   "id": "20828ac7",
   "metadata": {},
   "source": [
    "## "
   ]
  },
  {
   "cell_type": "markdown",
   "id": "bdd87864",
   "metadata": {},
   "source": [
    "## TASK - 6 :"
   ]
  },
  {
   "cell_type": "markdown",
   "id": "8a62ec4a",
   "metadata": {},
   "source": [
    "### The school named \"FBUMG\" is offering a scholarship of 500 for the students of class \"5LQ\" who have scored >=80 in test2. Display the information of these students along with student_ID and scholarship amounts in a tabular format."
   ]
  },
  {
   "cell_type": "code",
   "execution_count": 14,
   "id": "6cfebaf2",
   "metadata": {},
   "outputs": [
    {
     "data": {
      "text/html": [
       "<div>\n",
       "<style scoped>\n",
       "    .dataframe tbody tr th:only-of-type {\n",
       "        vertical-align: middle;\n",
       "    }\n",
       "\n",
       "    .dataframe tbody tr th {\n",
       "        vertical-align: top;\n",
       "    }\n",
       "\n",
       "    .dataframe thead th {\n",
       "        text-align: right;\n",
       "    }\n",
       "</style>\n",
       "<table border=\"1\" class=\"dataframe\">\n",
       "  <thead>\n",
       "    <tr style=\"text-align: right;\">\n",
       "      <th></th>\n",
       "      <th>school</th>\n",
       "      <th>school_setting</th>\n",
       "      <th>school_type</th>\n",
       "      <th>classroom</th>\n",
       "      <th>teaching_method</th>\n",
       "      <th>student_id</th>\n",
       "      <th>gender</th>\n",
       "      <th>tuitionfee_waiver</th>\n",
       "      <th>test1</th>\n",
       "      <th>test2</th>\n",
       "      <th>Scholarship</th>\n",
       "    </tr>\n",
       "  </thead>\n",
       "  <tbody>\n",
       "    <tr>\n",
       "      <th>467</th>\n",
       "      <td>FBUMG</td>\n",
       "      <td>Rural</td>\n",
       "      <td>Non-public</td>\n",
       "      <td>5LQ</td>\n",
       "      <td>Experimental</td>\n",
       "      <td>04DG5</td>\n",
       "      <td>Female</td>\n",
       "      <td>Yes</td>\n",
       "      <td>63.0</td>\n",
       "      <td>84.0</td>\n",
       "      <td>500</td>\n",
       "    </tr>\n",
       "    <tr>\n",
       "      <th>468</th>\n",
       "      <td>FBUMG</td>\n",
       "      <td>Rural</td>\n",
       "      <td>Non-public</td>\n",
       "      <td>5LQ</td>\n",
       "      <td>Experimental</td>\n",
       "      <td>20M2D</td>\n",
       "      <td>Female</td>\n",
       "      <td>Yes</td>\n",
       "      <td>68.0</td>\n",
       "      <td>85.0</td>\n",
       "      <td>500</td>\n",
       "    </tr>\n",
       "    <tr>\n",
       "      <th>469</th>\n",
       "      <td>FBUMG</td>\n",
       "      <td>Rural</td>\n",
       "      <td>Non-public</td>\n",
       "      <td>5LQ</td>\n",
       "      <td>Experimental</td>\n",
       "      <td>39KCW</td>\n",
       "      <td>Male</td>\n",
       "      <td>Yes</td>\n",
       "      <td>66.0</td>\n",
       "      <td>81.0</td>\n",
       "      <td>500</td>\n",
       "    </tr>\n",
       "    <tr>\n",
       "      <th>470</th>\n",
       "      <td>FBUMG</td>\n",
       "      <td>Rural</td>\n",
       "      <td>Non-public</td>\n",
       "      <td>5LQ</td>\n",
       "      <td>Experimental</td>\n",
       "      <td>5Z1B6</td>\n",
       "      <td>Male</td>\n",
       "      <td>No</td>\n",
       "      <td>68.0</td>\n",
       "      <td>88.0</td>\n",
       "      <td>500</td>\n",
       "    </tr>\n",
       "    <tr>\n",
       "      <th>471</th>\n",
       "      <td>FBUMG</td>\n",
       "      <td>Rural</td>\n",
       "      <td>Non-public</td>\n",
       "      <td>5LQ</td>\n",
       "      <td>Experimental</td>\n",
       "      <td>6TLU8</td>\n",
       "      <td>Female</td>\n",
       "      <td>No</td>\n",
       "      <td>66.0</td>\n",
       "      <td>81.0</td>\n",
       "      <td>500</td>\n",
       "    </tr>\n",
       "    <tr>\n",
       "      <th>472</th>\n",
       "      <td>FBUMG</td>\n",
       "      <td>Rural</td>\n",
       "      <td>Non-public</td>\n",
       "      <td>5LQ</td>\n",
       "      <td>Experimental</td>\n",
       "      <td>ATQQJ</td>\n",
       "      <td>Female</td>\n",
       "      <td>No</td>\n",
       "      <td>68.0</td>\n",
       "      <td>82.0</td>\n",
       "      <td>500</td>\n",
       "    </tr>\n",
       "    <tr>\n",
       "      <th>474</th>\n",
       "      <td>FBUMG</td>\n",
       "      <td>Rural</td>\n",
       "      <td>Non-public</td>\n",
       "      <td>5LQ</td>\n",
       "      <td>Experimental</td>\n",
       "      <td>B9FSU</td>\n",
       "      <td>Male</td>\n",
       "      <td>No</td>\n",
       "      <td>69.0</td>\n",
       "      <td>83.0</td>\n",
       "      <td>500</td>\n",
       "    </tr>\n",
       "    <tr>\n",
       "      <th>475</th>\n",
       "      <td>FBUMG</td>\n",
       "      <td>Rural</td>\n",
       "      <td>Non-public</td>\n",
       "      <td>5LQ</td>\n",
       "      <td>Experimental</td>\n",
       "      <td>EV13K</td>\n",
       "      <td>Female</td>\n",
       "      <td>No</td>\n",
       "      <td>66.0</td>\n",
       "      <td>83.0</td>\n",
       "      <td>500</td>\n",
       "    </tr>\n",
       "    <tr>\n",
       "      <th>476</th>\n",
       "      <td>FBUMG</td>\n",
       "      <td>Rural</td>\n",
       "      <td>Non-public</td>\n",
       "      <td>5LQ</td>\n",
       "      <td>Experimental</td>\n",
       "      <td>I5H37</td>\n",
       "      <td>Male</td>\n",
       "      <td>Yes</td>\n",
       "      <td>65.0</td>\n",
       "      <td>83.0</td>\n",
       "      <td>500</td>\n",
       "    </tr>\n",
       "    <tr>\n",
       "      <th>477</th>\n",
       "      <td>FBUMG</td>\n",
       "      <td>Rural</td>\n",
       "      <td>Non-public</td>\n",
       "      <td>5LQ</td>\n",
       "      <td>Experimental</td>\n",
       "      <td>JC5I9</td>\n",
       "      <td>Male</td>\n",
       "      <td>No</td>\n",
       "      <td>58.0</td>\n",
       "      <td>80.0</td>\n",
       "      <td>500</td>\n",
       "    </tr>\n",
       "    <tr>\n",
       "      <th>478</th>\n",
       "      <td>FBUMG</td>\n",
       "      <td>Rural</td>\n",
       "      <td>Non-public</td>\n",
       "      <td>5LQ</td>\n",
       "      <td>Experimental</td>\n",
       "      <td>JPE2J</td>\n",
       "      <td>Male</td>\n",
       "      <td>No</td>\n",
       "      <td>59.0</td>\n",
       "      <td>81.0</td>\n",
       "      <td>500</td>\n",
       "    </tr>\n",
       "    <tr>\n",
       "      <th>479</th>\n",
       "      <td>FBUMG</td>\n",
       "      <td>Rural</td>\n",
       "      <td>Non-public</td>\n",
       "      <td>5LQ</td>\n",
       "      <td>Experimental</td>\n",
       "      <td>MFBYU</td>\n",
       "      <td>Female</td>\n",
       "      <td>No</td>\n",
       "      <td>73.0</td>\n",
       "      <td>82.0</td>\n",
       "      <td>500</td>\n",
       "    </tr>\n",
       "    <tr>\n",
       "      <th>480</th>\n",
       "      <td>FBUMG</td>\n",
       "      <td>Rural</td>\n",
       "      <td>Non-public</td>\n",
       "      <td>5LQ</td>\n",
       "      <td>Experimental</td>\n",
       "      <td>O144X</td>\n",
       "      <td>Male</td>\n",
       "      <td>No</td>\n",
       "      <td>67.0</td>\n",
       "      <td>86.0</td>\n",
       "      <td>500</td>\n",
       "    </tr>\n",
       "    <tr>\n",
       "      <th>481</th>\n",
       "      <td>FBUMG</td>\n",
       "      <td>Rural</td>\n",
       "      <td>Non-public</td>\n",
       "      <td>5LQ</td>\n",
       "      <td>Experimental</td>\n",
       "      <td>OGKP3</td>\n",
       "      <td>Male</td>\n",
       "      <td>No</td>\n",
       "      <td>72.0</td>\n",
       "      <td>83.0</td>\n",
       "      <td>500</td>\n",
       "    </tr>\n",
       "    <tr>\n",
       "      <th>484</th>\n",
       "      <td>FBUMG</td>\n",
       "      <td>Rural</td>\n",
       "      <td>Non-public</td>\n",
       "      <td>5LQ</td>\n",
       "      <td>Experimental</td>\n",
       "      <td>YRN9S</td>\n",
       "      <td>Male</td>\n",
       "      <td>No</td>\n",
       "      <td>68.0</td>\n",
       "      <td>87.0</td>\n",
       "      <td>500</td>\n",
       "    </tr>\n",
       "  </tbody>\n",
       "</table>\n",
       "</div>"
      ],
      "text/plain": [
       "    school school_setting school_type classroom teaching_method student_id  \\\n",
       "467  FBUMG          Rural  Non-public       5LQ    Experimental      04DG5   \n",
       "468  FBUMG          Rural  Non-public       5LQ    Experimental      20M2D   \n",
       "469  FBUMG          Rural  Non-public       5LQ    Experimental      39KCW   \n",
       "470  FBUMG          Rural  Non-public       5LQ    Experimental      5Z1B6   \n",
       "471  FBUMG          Rural  Non-public       5LQ    Experimental      6TLU8   \n",
       "472  FBUMG          Rural  Non-public       5LQ    Experimental      ATQQJ   \n",
       "474  FBUMG          Rural  Non-public       5LQ    Experimental      B9FSU   \n",
       "475  FBUMG          Rural  Non-public       5LQ    Experimental      EV13K   \n",
       "476  FBUMG          Rural  Non-public       5LQ    Experimental      I5H37   \n",
       "477  FBUMG          Rural  Non-public       5LQ    Experimental      JC5I9   \n",
       "478  FBUMG          Rural  Non-public       5LQ    Experimental      JPE2J   \n",
       "479  FBUMG          Rural  Non-public       5LQ    Experimental      MFBYU   \n",
       "480  FBUMG          Rural  Non-public       5LQ    Experimental      O144X   \n",
       "481  FBUMG          Rural  Non-public       5LQ    Experimental      OGKP3   \n",
       "484  FBUMG          Rural  Non-public       5LQ    Experimental      YRN9S   \n",
       "\n",
       "     gender tuitionfee_waiver  test1  test2  Scholarship  \n",
       "467  Female               Yes   63.0   84.0          500  \n",
       "468  Female               Yes   68.0   85.0          500  \n",
       "469    Male               Yes   66.0   81.0          500  \n",
       "470    Male                No   68.0   88.0          500  \n",
       "471  Female                No   66.0   81.0          500  \n",
       "472  Female                No   68.0   82.0          500  \n",
       "474    Male                No   69.0   83.0          500  \n",
       "475  Female                No   66.0   83.0          500  \n",
       "476    Male               Yes   65.0   83.0          500  \n",
       "477    Male                No   58.0   80.0          500  \n",
       "478    Male                No   59.0   81.0          500  \n",
       "479  Female                No   73.0   82.0          500  \n",
       "480    Male                No   67.0   86.0          500  \n",
       "481    Male                No   72.0   83.0          500  \n",
       "484    Male                No   68.0   87.0          500  "
      ]
     },
     "execution_count": 14,
     "metadata": {},
     "output_type": "execute_result"
    }
   ],
   "source": [
    "scholarship = std_data[(std_data[\"school\"]==\"FBUMG\") & (std_data[\"classroom\"]== \"5LQ\") & (std_data[\"test2\"]>=80)]\n",
    "scholarship.insert(10,\"Scholarship\",np.full(15,500))\n",
    "scholarship "
   ]
  },
  {
   "cell_type": "markdown",
   "id": "8fb745fd",
   "metadata": {},
   "source": [
    "## "
   ]
  },
  {
   "cell_type": "markdown",
   "id": "90f3bb7f",
   "metadata": {},
   "source": [
    "## TASK - 7 :"
   ]
  },
  {
   "cell_type": "markdown",
   "id": "582d6670",
   "metadata": {},
   "source": [
    "### Display the count of each type of teaching method, segregated by school setting."
   ]
  },
  {
   "cell_type": "code",
   "execution_count": 16,
   "id": "c452ad6a",
   "metadata": {},
   "outputs": [
    {
     "data": {
      "text/html": [
       "<div>\n",
       "<style scoped>\n",
       "    .dataframe tbody tr th:only-of-type {\n",
       "        vertical-align: middle;\n",
       "    }\n",
       "\n",
       "    .dataframe tbody tr th {\n",
       "        vertical-align: top;\n",
       "    }\n",
       "\n",
       "    .dataframe thead th {\n",
       "        text-align: right;\n",
       "    }\n",
       "</style>\n",
       "<table border=\"1\" class=\"dataframe\">\n",
       "  <thead>\n",
       "    <tr style=\"text-align: right;\">\n",
       "      <th>teaching_method</th>\n",
       "      <th>Experimental</th>\n",
       "      <th>Standard</th>\n",
       "    </tr>\n",
       "    <tr>\n",
       "      <th>school_setting</th>\n",
       "      <th></th>\n",
       "      <th></th>\n",
       "    </tr>\n",
       "  </thead>\n",
       "  <tbody>\n",
       "    <tr>\n",
       "      <th>Rural</th>\n",
       "      <td>201</td>\n",
       "      <td>309</td>\n",
       "    </tr>\n",
       "    <tr>\n",
       "      <th>Suburban</th>\n",
       "      <td>284</td>\n",
       "      <td>433</td>\n",
       "    </tr>\n",
       "    <tr>\n",
       "      <th>Urban</th>\n",
       "      <td>275</td>\n",
       "      <td>631</td>\n",
       "    </tr>\n",
       "  </tbody>\n",
       "</table>\n",
       "</div>"
      ],
      "text/plain": [
       "teaching_method  Experimental  Standard\n",
       "school_setting                         \n",
       "Rural                     201       309\n",
       "Suburban                  284       433\n",
       "Urban                     275       631"
      ]
     },
     "execution_count": 16,
     "metadata": {},
     "output_type": "execute_result"
    }
   ],
   "source": [
    "pd.crosstab(std_data.school_setting, std_data.teaching_method, rownames=[\"school_setting\"], colnames=[\"teaching_method\"])"
   ]
  },
  {
   "cell_type": "markdown",
   "id": "00cb063a",
   "metadata": {},
   "source": [
    "## "
   ]
  },
  {
   "cell_type": "markdown",
   "id": "0f539f8f",
   "metadata": {},
   "source": [
    "## TASK - 8 :"
   ]
  },
  {
   "cell_type": "markdown",
   "id": "5224165c",
   "metadata": {},
   "source": [
    "### Display the gender-wise count of students in different school settings - rural, subrural and urban."
   ]
  },
  {
   "cell_type": "code",
   "execution_count": 17,
   "id": "14761962",
   "metadata": {},
   "outputs": [
    {
     "data": {
      "text/plain": [
       "school_setting  gender\n",
       "Rural           Female    228\n",
       "                Male      282\n",
       "Suburban        Female    368\n",
       "                Male      349\n",
       "Urban           Female    456\n",
       "                Male      450\n",
       "Name: gender, dtype: int64"
      ]
     },
     "execution_count": 17,
     "metadata": {},
     "output_type": "execute_result"
    }
   ],
   "source": [
    "std_data.groupby(by=[\"school_setting\",\"gender\"])[\"gender\"].count()"
   ]
  },
  {
   "cell_type": "markdown",
   "id": "e97edc0d",
   "metadata": {},
   "source": [
    "## "
   ]
  },
  {
   "cell_type": "markdown",
   "id": "a1954b6b",
   "metadata": {},
   "source": [
    "## TASK - 9 :"
   ]
  },
  {
   "cell_type": "markdown",
   "id": "533138a6",
   "metadata": {},
   "source": [
    "### Display the average test2 scores of male and female students from each school setting."
   ]
  },
  {
   "cell_type": "code",
   "execution_count": 18,
   "id": "2d396b27",
   "metadata": {},
   "outputs": [
    {
     "data": {
      "text/plain": [
       "school_setting  gender\n",
       "Rural           Female    63.991228\n",
       "                Male      64.092199\n",
       "Suburban        Female    76.027174\n",
       "                Male      75.991404\n",
       "Urban           Female    61.179825\n",
       "                Male      62.424444\n",
       "Name: test2, dtype: float64"
      ]
     },
     "execution_count": 18,
     "metadata": {},
     "output_type": "execute_result"
    }
   ],
   "source": [
    "std_data.groupby(by=[\"school_setting\",\"gender\"])[\"test2\"].mean()"
   ]
  },
  {
   "cell_type": "markdown",
   "id": "307a74f2",
   "metadata": {},
   "source": [
    "## "
   ]
  }
 ],
 "metadata": {
  "kernelspec": {
   "display_name": "Python 3 (ipykernel)",
   "language": "python",
   "name": "python3"
  },
  "language_info": {
   "codemirror_mode": {
    "name": "ipython",
    "version": 3
   },
   "file_extension": ".py",
   "mimetype": "text/x-python",
   "name": "python",
   "nbconvert_exporter": "python",
   "pygments_lexer": "ipython3",
   "version": "3.11.5"
  }
 },
 "nbformat": 4,
 "nbformat_minor": 5
}
