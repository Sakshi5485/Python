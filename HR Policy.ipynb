{
 "cells": [
  {
   "cell_type": "markdown",
   "id": "82d13673",
   "metadata": {},
   "source": [
    "# HR Policy"
   ]
  },
  {
   "cell_type": "markdown",
   "id": "48668906",
   "metadata": {},
   "source": [
    "## "
   ]
  },
  {
   "cell_type": "code",
   "execution_count": 1,
   "id": "16277fdc",
   "metadata": {},
   "outputs": [],
   "source": [
    "import mysql.connector as sql\n",
    "import pandas as pd\n",
    "from sqlalchemy import create_engine\n",
    "import matplotlib.pyplot as plt"
   ]
  },
  {
   "cell_type": "code",
   "execution_count": 2,
   "id": "b99a24c6",
   "metadata": {},
   "outputs": [],
   "source": [
    "hr_data = sql.connect(host='localhost', user='root',password='SAK@2002',database='hr')"
   ]
  },
  {
   "cell_type": "code",
   "execution_count": 3,
   "id": "6df40088",
   "metadata": {},
   "outputs": [],
   "source": [
    "mycursor = hr_data.cursor()"
   ]
  },
  {
   "cell_type": "markdown",
   "id": "6ee86f20",
   "metadata": {},
   "source": [
    "# "
   ]
  },
  {
   "cell_type": "markdown",
   "id": "c10c9831",
   "metadata": {},
   "source": [
    "## TASK - 1 :"
   ]
  },
  {
   "cell_type": "markdown",
   "id": "73ee6916",
   "metadata": {},
   "source": [
    "### Write an SQL query in python to extract the country names and the regions associated with them."
   ]
  },
  {
   "cell_type": "code",
   "execution_count": 4,
   "id": "681b6090",
   "metadata": {},
   "outputs": [
    {
     "data": {
      "text/plain": [
       "[('Belgium', 'Europe'),\n",
       " ('Switzerland', 'Europe'),\n",
       " ('Germany', 'Europe'),\n",
       " ('Denmark', 'Europe'),\n",
       " ('France', 'Europe'),\n",
       " ('Italy', 'Europe'),\n",
       " ('Netherlands', 'Europe'),\n",
       " ('United Kingdom', 'Europe'),\n",
       " ('Argentina', 'Americas'),\n",
       " ('Brazil', 'Americas'),\n",
       " ('Canada', 'Americas'),\n",
       " ('Mexico', 'Americas'),\n",
       " ('United States of America', 'Americas'),\n",
       " ('Australia', 'Asia'),\n",
       " ('China', 'Asia'),\n",
       " ('HongKong', 'Asia'),\n",
       " ('India', 'Asia'),\n",
       " ('Japan', 'Asia'),\n",
       " ('Singapore', 'Asia'),\n",
       " ('Egypt', 'Middle East and Africa'),\n",
       " ('Israel', 'Middle East and Africa'),\n",
       " ('Kuwait', 'Middle East and Africa'),\n",
       " ('Nigeria', 'Middle East and Africa'),\n",
       " ('Zambia', 'Middle East and Africa'),\n",
       " ('Zimbabwe', 'Middle East and Africa')]"
      ]
     },
     "execution_count": 4,
     "metadata": {},
     "output_type": "execute_result"
    }
   ],
   "source": [
    "country_region = \"select country_name, region_name from countries join regions on countries.region_id=regions.region_id;\"\n",
    "mycursor.execute(country_region)\n",
    "country = mycursor.fetchall()\n",
    "country"
   ]
  },
  {
   "cell_type": "markdown",
   "id": "5ea2e403",
   "metadata": {},
   "source": [
    "## "
   ]
  },
  {
   "cell_type": "markdown",
   "id": "d92487f5",
   "metadata": {},
   "source": [
    "## TASK - 2 :"
   ]
  },
  {
   "cell_type": "markdown",
   "id": "fc2e8351",
   "metadata": {},
   "source": [
    "### Display country-wise employee counts in a new table and push it into a RDBMS this needs joining of tables, Once this task is completed this query can be executed directly using MySQL without the need of joins."
   ]
  },
  {
   "cell_type": "code",
   "execution_count": 5,
   "id": "e39b605a",
   "metadata": {},
   "outputs": [],
   "source": [
    "country_count = \"\"\"select country_name, count(employee_id) from countries\n",
    "join locations on countries.country_id = locations.country_id\n",
    "join departments on locations.location_id = departments.location_id\n",
    "join employees on departments.department_id = employees.department_id group by country_name;\"\"\""
   ]
  },
  {
   "cell_type": "code",
   "execution_count": 6,
   "id": "fd61d95c",
   "metadata": {},
   "outputs": [],
   "source": [
    "mycursor.execute(country_count)\n",
    "emp_count = mycursor.fetchall()"
   ]
  },
  {
   "cell_type": "code",
   "execution_count": 7,
   "id": "3ffb1e8e",
   "metadata": {},
   "outputs": [],
   "source": [
    "emp_count = pd.DataFrame(emp_count)\n",
    "emp_count.columns=[\"Country\",\"Employee_Count\"]"
   ]
  },
  {
   "cell_type": "code",
   "execution_count": 8,
   "id": "20f73aa2",
   "metadata": {},
   "outputs": [
    {
     "data": {
      "text/plain": [
       "array([['United States of America', 68],\n",
       "       ['Canada', 2],\n",
       "       ['United Kingdom', 35],\n",
       "       ['Germany', 1]], dtype=object)"
      ]
     },
     "execution_count": 8,
     "metadata": {},
     "output_type": "execute_result"
    }
   ],
   "source": [
    "emp_count.values"
   ]
  },
  {
   "cell_type": "code",
   "execution_count": 9,
   "id": "0f248e41",
   "metadata": {},
   "outputs": [
    {
     "data": {
      "text/plain": [
       "4"
      ]
     },
     "execution_count": 9,
     "metadata": {},
     "output_type": "execute_result"
    }
   ],
   "source": [
    "hostname=\"localhost\"\n",
    "dbname=\"hr\"  \n",
    "uname=\"root\"\n",
    "pwd=\"SAK%402002\"\n",
    "\n",
    "engine = create_engine(\"mysql+pymysql://{user}:{pw}@{host}/{db}\"\n",
    ".format(host=hostname, db=dbname, user=uname, pw=pwd))\n",
    "\n",
    "emp_count.to_sql('employee_count', engine, index=False)"
   ]
  },
  {
   "cell_type": "code",
   "execution_count": 10,
   "id": "aee50a06",
   "metadata": {},
   "outputs": [],
   "source": [
    "hr_data = sql.connect(host='localhost', user='root',password='SAK@2002',database='hr')"
   ]
  },
  {
   "cell_type": "markdown",
   "id": "3274a1a1",
   "metadata": {},
   "source": [
    "### "
   ]
  },
  {
   "cell_type": "markdown",
   "id": "7b259a9b",
   "metadata": {},
   "source": [
    "## TASK - 3 :"
   ]
  },
  {
   "cell_type": "markdown",
   "id": "6069e7bc",
   "metadata": {},
   "source": [
    "### Display the country wise and city wise count of employees."
   ]
  },
  {
   "cell_type": "code",
   "execution_count": 11,
   "id": "90912ac5",
   "metadata": {},
   "outputs": [],
   "source": [
    "city_count = \"\"\"select country_name, city, count(employee_id) from countries \n",
    "join locations on countries.country_id = locations.country_id\n",
    "join departments on locations.location_id = departments.location_id\n",
    "join employees on departments.department_id = employees.department_id group by country_name, city;\"\"\""
   ]
  },
  {
   "cell_type": "code",
   "execution_count": 12,
   "id": "a2f17f66",
   "metadata": {},
   "outputs": [],
   "source": [
    "mycursor = hr_data.cursor()"
   ]
  },
  {
   "cell_type": "code",
   "execution_count": 13,
   "id": "0023d897",
   "metadata": {},
   "outputs": [],
   "source": [
    "mycursor.execute(city_count)\n",
    "con_city_count = mycursor.fetchall()"
   ]
  },
  {
   "cell_type": "code",
   "execution_count": 14,
   "id": "2f6cdf13",
   "metadata": {},
   "outputs": [
    {
     "data": {
      "text/html": [
       "<div>\n",
       "<style scoped>\n",
       "    .dataframe tbody tr th:only-of-type {\n",
       "        vertical-align: middle;\n",
       "    }\n",
       "\n",
       "    .dataframe tbody tr th {\n",
       "        vertical-align: top;\n",
       "    }\n",
       "\n",
       "    .dataframe thead th {\n",
       "        text-align: right;\n",
       "    }\n",
       "</style>\n",
       "<table border=\"1\" class=\"dataframe\">\n",
       "  <thead>\n",
       "    <tr style=\"text-align: right;\">\n",
       "      <th></th>\n",
       "      <th>Country</th>\n",
       "      <th>City</th>\n",
       "      <th>Employee_count</th>\n",
       "    </tr>\n",
       "  </thead>\n",
       "  <tbody>\n",
       "    <tr>\n",
       "      <th>0</th>\n",
       "      <td>United States of America</td>\n",
       "      <td>Southlake</td>\n",
       "      <td>5</td>\n",
       "    </tr>\n",
       "    <tr>\n",
       "      <th>1</th>\n",
       "      <td>United States of America</td>\n",
       "      <td>South San Francisco</td>\n",
       "      <td>45</td>\n",
       "    </tr>\n",
       "    <tr>\n",
       "      <th>2</th>\n",
       "      <td>United States of America</td>\n",
       "      <td>Seattle</td>\n",
       "      <td>18</td>\n",
       "    </tr>\n",
       "    <tr>\n",
       "      <th>3</th>\n",
       "      <td>Canada</td>\n",
       "      <td>Toronto</td>\n",
       "      <td>2</td>\n",
       "    </tr>\n",
       "    <tr>\n",
       "      <th>4</th>\n",
       "      <td>United Kingdom</td>\n",
       "      <td>London</td>\n",
       "      <td>1</td>\n",
       "    </tr>\n",
       "    <tr>\n",
       "      <th>5</th>\n",
       "      <td>United Kingdom</td>\n",
       "      <td>Oxford</td>\n",
       "      <td>34</td>\n",
       "    </tr>\n",
       "    <tr>\n",
       "      <th>6</th>\n",
       "      <td>Germany</td>\n",
       "      <td>Munich</td>\n",
       "      <td>1</td>\n",
       "    </tr>\n",
       "  </tbody>\n",
       "</table>\n",
       "</div>"
      ],
      "text/plain": [
       "                    Country                 City  Employee_count\n",
       "0  United States of America            Southlake               5\n",
       "1  United States of America  South San Francisco              45\n",
       "2  United States of America              Seattle              18\n",
       "3                    Canada              Toronto               2\n",
       "4            United Kingdom               London               1\n",
       "5            United Kingdom               Oxford              34\n",
       "6                   Germany               Munich               1"
      ]
     },
     "execution_count": 14,
     "metadata": {},
     "output_type": "execute_result"
    }
   ],
   "source": [
    "con_city_count = pd.DataFrame(con_city_count)\n",
    "con_city_count.columns = [\"Country\",\"City\",\"Employee_count\"]\n",
    "con_city_count"
   ]
  },
  {
   "cell_type": "code",
   "execution_count": 15,
   "id": "f15e681d",
   "metadata": {},
   "outputs": [
    {
     "data": {
      "text/plain": [
       "<Axes: title={'center': 'Country and City wise count of Employees'}, xlabel='City Name'>"
      ]
     },
     "execution_count": 15,
     "metadata": {},
     "output_type": "execute_result"
    },
    {
     "data": {
      "image/png": "[encoded data removed]",
      "text/plain": [
       "<Figure size 640x480 with 1 Axes>"
      ]
     },
     "metadata": {},
     "output_type": "display_data"
    }
   ],
   "source": [
    "con_city_count.plot(x=\"City\",\n",
    "                    kind=\"bar\",\n",
    "                    stacked=False,title=\"Country and City wise count of Employees\",xlabel=\"City Name\")"
   ]
  },
  {
   "cell_type": "code",
   "execution_count": null,
   "id": "411e76d7",
   "metadata": {},
   "outputs": [],
   "source": []
  },
  {
   "cell_type": "code",
   "execution_count": null,
   "id": "1d0ddc36",
   "metadata": {},
   "outputs": [],
   "source": []
  }
 ],
 "metadata": {
  "kernelspec": {
   "display_name": "Python 3 (ipykernel)",
   "language": "python",
   "name": "python3"
  },
  "language_info": {
   "codemirror_mode": {
    "name": "ipython",
    "version": 3
   },
   "file_extension": ".py",
   "mimetype": "text/x-python",
   "name": "python",
   "nbconvert_exporter": "python",
   "pygments_lexer": "ipython3",
   "version": "3.11.5"
  }
 },
 "nbformat": 4,
 "nbformat_minor": 5
}
